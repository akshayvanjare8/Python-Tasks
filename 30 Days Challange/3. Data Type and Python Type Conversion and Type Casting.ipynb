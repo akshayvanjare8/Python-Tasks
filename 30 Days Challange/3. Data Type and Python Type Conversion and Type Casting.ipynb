{
 "cells": [
  {
   "cell_type": "markdown",
   "id": "3fe93189",
   "metadata": {},
   "source": [
    "### Created By : Akshay Nivrutti Vanjare"
   ]
  },
  {
   "cell_type": "markdown",
   "id": "a9698936",
   "metadata": {},
   "source": [
    "# 1. Data Types "
   ]
  },
  {
   "cell_type": "markdown",
   "id": "13f64fe2",
   "metadata": {},
   "source": [
    "Every value in Python has a datatype. Since everything is an object in Python programming, data types are actually classes and variables are instance (object) of these classes.\n",
    "\n",
    "There are various data types in Python. Some of the important types are listed below."
   ]
  },
  {
   "cell_type": "markdown",
   "id": "df18eeb2",
   "metadata": {},
   "source": [
    "## 1.1 Python Numbers "
   ]
  },
  {
   "cell_type": "markdown",
   "id": "05e5ccda",
   "metadata": {},
   "source": [
    "Integers, floating point numbers and complex numbers fall under Python numbers category. They are defined as **int**, **float** and **complex** classes in Python.\n",
    "\n",
    "We can use the **type()** function to know which class a variable or a value belongs to. Similarly, the **isinstance()** function is used to check if an object belongs to a particular class."
   ]
  },
  {
   "cell_type": "code",
   "execution_count": 1,
   "id": "8bba069d",
   "metadata": {},
   "outputs": [
    {
     "name": "stdout",
     "output_type": "stream",
     "text": [
      "5 is of type <class 'int'>\n",
      "2.0 is of type <class 'float'>\n",
      "(1+2j) is complex number? True\n"
     ]
    }
   ],
   "source": [
    "a = 5\n",
    "print(a, \"is of type\", type(a))\n",
    "\n",
    "\n",
    "a = 2.0\n",
    "print(a, \"is of type\", type(a))\n",
    "\n",
    "\n",
    "a = 1+2j\n",
    "print(a, \"is complex number?\", \n",
    "      isinstance(1+2j,complex))"
   ]
  },
  {
   "cell_type": "markdown",
   "id": "9a77d5fc",
   "metadata": {},
   "source": [
    "Integers can be of any length, it is only limited by the memory available.\n",
    "\n",
    "A floating-point number is accurate up to 15 decimal places. Integer and floating points are separated by decimal points. 1 is an integer, 1.0 is a floating-point number.\n",
    "\n",
    "Complex numbers are written in the form, x + yj, where x is the real part and y is the imaginary part. Here are some examples."
   ]
  },
  {
   "cell_type": "markdown",
   "id": "f5b4d0b3",
   "metadata": {},
   "source": [
    "## 1.2 Python List "
   ]
  },
  {
   "cell_type": "markdown",
   "id": "6707d398",
   "metadata": {},
   "source": [
    "List is an ordered sequence of items. It is one of the most used datatype in Python and is very flexible. All the items in a list do not need to be of the same type.\n",
    "\n",
    "Declaring a list is pretty straight forward. Items separated by commas are enclosed within brackets **[ ]**."
   ]
  },
  {
   "cell_type": "code",
   "execution_count": 2,
   "id": "3cd30969",
   "metadata": {},
   "outputs": [],
   "source": [
    "a = [1, 2.2, 'python']"
   ]
  },
  {
   "cell_type": "markdown",
   "id": "95c90d71",
   "metadata": {},
   "source": [
    "We can use the slicing operator [ ] to extract an item or a range of items from a list. The index starts from 0 in Python."
   ]
  },
  {
   "cell_type": "code",
   "execution_count": 3,
   "id": "dc6b1e94",
   "metadata": {},
   "outputs": [
    {
     "name": "stdout",
     "output_type": "stream",
     "text": [
      "a[2] =  15\n",
      "a[0:3] =  [5, 10, 15]\n",
      "a[5:] =  [30, 35, 40]\n"
     ]
    }
   ],
   "source": [
    "a = [5,10,15,20,25,30,35,40]\n",
    "\n",
    "\n",
    "# a[2] = 15\n",
    "print(\"a[2] = \", a[2])\n",
    "\n",
    "# a[0:3] = [5, 10, 15]\n",
    "print(\"a[0:3] = \", a[0:3])\n",
    "\n",
    "# a[5:] = [30, 35, 40]\n",
    "print(\"a[5:] = \", a[5:])"
   ]
  },
  {
   "cell_type": "markdown",
   "id": "e3eff43c",
   "metadata": {},
   "source": [
    "Lists are mutable, meaning, the value of elements of a list can be altered."
   ]
  },
  {
   "cell_type": "code",
   "execution_count": 4,
   "id": "c57a53fd",
   "metadata": {},
   "outputs": [
    {
     "name": "stdout",
     "output_type": "stream",
     "text": [
      "[1, 2, 4]\n"
     ]
    }
   ],
   "source": [
    "a = [1,2,3]\n",
    "a[2] = 4 \n",
    "\n",
    "print(a) "
   ]
  },
  {
   "cell_type": "markdown",
   "id": "8d313933",
   "metadata": {},
   "source": [
    "## 1.3 Python Tuple \n",
    "\n",
    "Tuple is an ordered sequence of items same as a list. The only difference is that tuples are immutable. Tuples once created cannot be modified.\n",
    "\n",
    "Tuples are used to write-protect data and are usually faster than lists as they cannot change dynamically.\n",
    "\n",
    "It is defined within **parentheses ()** where items are separated by commas."
   ]
  },
  {
   "cell_type": "code",
   "execution_count": 5,
   "id": "e4635209",
   "metadata": {},
   "outputs": [],
   "source": [
    "t = (5,'program', 1+3j)"
   ]
  },
  {
   "cell_type": "markdown",
   "id": "c1ed9899",
   "metadata": {},
   "source": [
    "We can use the slicing operator [ ] to extract items but we cannot change its value."
   ]
  },
  {
   "cell_type": "code",
   "execution_count": 6,
   "id": "af76238d",
   "metadata": {},
   "outputs": [
    {
     "name": "stdout",
     "output_type": "stream",
     "text": [
      "t[1] =  program\n",
      "t[0:3] =  (5, 'program', (1+3j))\n"
     ]
    },
    {
     "ename": "TypeError",
     "evalue": "'tuple' object does not support item assignment",
     "output_type": "error",
     "traceback": [
      "\u001b[0;31m-------------------------------------------------------------------\u001b[0m",
      "\u001b[0;31mTypeError\u001b[0m                         Traceback (most recent call last)",
      "\u001b[0;32m<ipython-input-6-7b09e510b055>\u001b[0m in \u001b[0;36m<module>\u001b[0;34m\u001b[0m\n\u001b[1;32m     10\u001b[0m \u001b[0;31m# Generates error\u001b[0m\u001b[0;34m\u001b[0m\u001b[0;34m\u001b[0m\u001b[0;34m\u001b[0m\u001b[0m\n\u001b[1;32m     11\u001b[0m \u001b[0;31m# Tuples are immutable\u001b[0m\u001b[0;34m\u001b[0m\u001b[0;34m\u001b[0m\u001b[0;34m\u001b[0m\u001b[0m\n\u001b[0;32m---> 12\u001b[0;31m \u001b[0mt\u001b[0m\u001b[0;34m[\u001b[0m\u001b[0;36m0\u001b[0m\u001b[0;34m]\u001b[0m \u001b[0;34m=\u001b[0m \u001b[0;36m10\u001b[0m\u001b[0;34m\u001b[0m\u001b[0;34m\u001b[0m\u001b[0m\n\u001b[0m",
      "\u001b[0;31mTypeError\u001b[0m: 'tuple' object does not support item assignment"
     ]
    }
   ],
   "source": [
    "t = (5,'program', 1+3j)\n",
    "\n",
    "\n",
    "# t[1] = 'program'\n",
    "print(\"t[1] = \", t[1])\n",
    "\n",
    "# t[0:3] = (5, 'program', (1+3j))\n",
    "print(\"t[0:3] = \", t[0:3])\n",
    "\n",
    "# Generates error\n",
    "# Tuples are immutable\n",
    "t[0] = 10"
   ]
  },
  {
   "cell_type": "markdown",
   "id": "9a07f935",
   "metadata": {},
   "source": [
    "## 1.4 Python Strings \n",
    "\n",
    "String is sequence of Unicode characters. We can use single quotes or double quotes to represent strings. Multi-line strings can be denoted using triple quotes, **'''** or **\"\"\"**."
   ]
  },
  {
   "cell_type": "code",
   "execution_count": 7,
   "id": "bb75fc07",
   "metadata": {},
   "outputs": [
    {
     "name": "stdout",
     "output_type": "stream",
     "text": [
      "This is a string\n",
      "A multiline\n",
      "string\n"
     ]
    }
   ],
   "source": [
    "s = \"This is a string\"\n",
    "print(s)\n",
    "\n",
    "s = '''A multiline\n",
    "string'''\n",
    "print(s)"
   ]
  },
  {
   "cell_type": "markdown",
   "id": "f0d61ba5",
   "metadata": {},
   "source": [
    "Just like a list and tuple, the slicing operator [ ] can be used with strings. Strings, however, are immutable."
   ]
  },
  {
   "cell_type": "code",
   "execution_count": 8,
   "id": "314b4294",
   "metadata": {},
   "outputs": [
    {
     "name": "stdout",
     "output_type": "stream",
     "text": [
      "s[4] =  o\n",
      "s[6:11] =  world\n"
     ]
    },
    {
     "ename": "TypeError",
     "evalue": "'str' object does not support item assignment",
     "output_type": "error",
     "traceback": [
      "\u001b[0;31m-------------------------------------------------------------------\u001b[0m",
      "\u001b[0;31mTypeError\u001b[0m                         Traceback (most recent call last)",
      "\u001b[0;32m<ipython-input-8-a46c6ae04bff>\u001b[0m in \u001b[0;36m<module>\u001b[0;34m\u001b[0m\n\u001b[1;32m     10\u001b[0m \u001b[0;31m# Generates error\u001b[0m\u001b[0;34m\u001b[0m\u001b[0;34m\u001b[0m\u001b[0;34m\u001b[0m\u001b[0m\n\u001b[1;32m     11\u001b[0m \u001b[0;31m# Strings are immutable in Python\u001b[0m\u001b[0;34m\u001b[0m\u001b[0;34m\u001b[0m\u001b[0;34m\u001b[0m\u001b[0m\n\u001b[0;32m---> 12\u001b[0;31m \u001b[0ms\u001b[0m\u001b[0;34m[\u001b[0m\u001b[0;36m5\u001b[0m\u001b[0;34m]\u001b[0m \u001b[0;34m=\u001b[0m\u001b[0;34m'd'\u001b[0m\u001b[0;34m\u001b[0m\u001b[0;34m\u001b[0m\u001b[0m\n\u001b[0m",
      "\u001b[0;31mTypeError\u001b[0m: 'str' object does not support item assignment"
     ]
    }
   ],
   "source": [
    "s = 'Hello world!'\n",
    "\n",
    "\n",
    "# s[4] = 'o'\n",
    "print(\"s[4] = \", s[4])\n",
    "\n",
    "# s[6:11] = 'world'\n",
    "print(\"s[6:11] = \", s[6:11])\n",
    "\n",
    "# Generates error\n",
    "# Strings are immutable in Python\n",
    "s[5] ='d'"
   ]
  },
  {
   "cell_type": "markdown",
   "id": "32de25f9",
   "metadata": {},
   "source": [
    "## 1.5 Python Set \n",
    "\n",
    "Set is an unordered collection of unique items. Set is defined by values separated by comma inside braces **{ }**. Items in a set are not ordered."
   ]
  },
  {
   "cell_type": "code",
   "execution_count": 9,
   "id": "5a99a684",
   "metadata": {},
   "outputs": [
    {
     "name": "stdout",
     "output_type": "stream",
     "text": [
      "a =  {1, 2, 3, 4, 5}\n",
      "<class 'set'>\n"
     ]
    }
   ],
   "source": [
    "a = {5,2,3,1,4}\n",
    "\n",
    "\n",
    "# printing set variable\n",
    "print(\"a = \", a)\n",
    "\n",
    "# data type of variable a\n",
    "print(type(a))"
   ]
  },
  {
   "cell_type": "markdown",
   "id": "0ccd141e",
   "metadata": {},
   "source": [
    "We can perform set operations like union, intersection on two sets. Sets have unique values. They eliminate duplicates."
   ]
  },
  {
   "cell_type": "code",
   "execution_count": 10,
   "id": "e145667c",
   "metadata": {},
   "outputs": [
    {
     "name": "stdout",
     "output_type": "stream",
     "text": [
      "{1, 2, 3}\n"
     ]
    }
   ],
   "source": [
    "a = {1,2,2,3,3,3}\n",
    "print(a)"
   ]
  },
  {
   "cell_type": "markdown",
   "id": "6b1236aa",
   "metadata": {},
   "source": [
    "Since, set are unordered collection, indexing has no meaning. Hence, the slicing operator [] does not work."
   ]
  },
  {
   "cell_type": "code",
   "execution_count": 11,
   "id": "79358542",
   "metadata": {},
   "outputs": [
    {
     "ename": "TypeError",
     "evalue": "'set' object is not subscriptable",
     "output_type": "error",
     "traceback": [
      "\u001b[0;31m-------------------------------------------------------------------\u001b[0m",
      "\u001b[0;31mTypeError\u001b[0m                         Traceback (most recent call last)",
      "\u001b[0;32m<ipython-input-11-e462f2426a2f>\u001b[0m in \u001b[0;36m<module>\u001b[0;34m\u001b[0m\n\u001b[1;32m      1\u001b[0m \u001b[0ma\u001b[0m \u001b[0;34m=\u001b[0m \u001b[0;34m{\u001b[0m\u001b[0;36m1\u001b[0m\u001b[0;34m,\u001b[0m\u001b[0;36m2\u001b[0m\u001b[0;34m,\u001b[0m\u001b[0;36m3\u001b[0m\u001b[0;34m}\u001b[0m\u001b[0;34m\u001b[0m\u001b[0;34m\u001b[0m\u001b[0m\n\u001b[0;32m----> 2\u001b[0;31m \u001b[0ma\u001b[0m\u001b[0;34m[\u001b[0m\u001b[0;36m2\u001b[0m\u001b[0;34m]\u001b[0m\u001b[0;34m\u001b[0m\u001b[0;34m\u001b[0m\u001b[0m\n\u001b[0m",
      "\u001b[0;31mTypeError\u001b[0m: 'set' object is not subscriptable"
     ]
    }
   ],
   "source": [
    "a = {1,2,3}\n",
    "a[2]"
   ]
  },
  {
   "cell_type": "markdown",
   "id": "0f2f42cd",
   "metadata": {},
   "source": [
    "## 1.6 Python Dictionary \n",
    "\n",
    "Dictionary is an unordered collection of key-value pairs.\n",
    "\n",
    "It is generally used when we have a huge amount of data. Dictionaries are optimized for retrieving data. We must know the key to retrieve the value.\n",
    "\n",
    "In Python, dictionaries are defined within braces {} with each item being a pair in the form key:value. Key and value can be of any type."
   ]
  },
  {
   "cell_type": "code",
   "execution_count": 12,
   "id": "f1a25f5c",
   "metadata": {},
   "outputs": [
    {
     "data": {
      "text/plain": [
       "dict"
      ]
     },
     "execution_count": 12,
     "metadata": {},
     "output_type": "execute_result"
    }
   ],
   "source": [
    "d = {1:'value','key':2} \n",
    "type(d) "
   ]
  },
  {
   "cell_type": "code",
   "execution_count": 13,
   "id": "b46de371",
   "metadata": {},
   "outputs": [
    {
     "name": "stdout",
     "output_type": "stream",
     "text": [
      "<class 'dict'>\n",
      "d[1] =  value\n",
      "d['key'] =  2\n"
     ]
    },
    {
     "ename": "KeyError",
     "evalue": "2",
     "output_type": "error",
     "traceback": [
      "\u001b[0;31m-------------------------------------------------------------------\u001b[0m",
      "\u001b[0;31mKeyError\u001b[0m                          Traceback (most recent call last)",
      "\u001b[0;32m<ipython-input-13-65a8eeaa3f97>\u001b[0m in \u001b[0;36m<module>\u001b[0;34m\u001b[0m\n\u001b[1;32m      8\u001b[0m \u001b[0;34m\u001b[0m\u001b[0m\n\u001b[1;32m      9\u001b[0m \u001b[0;31m# Generates error\u001b[0m\u001b[0;34m\u001b[0m\u001b[0;34m\u001b[0m\u001b[0;34m\u001b[0m\u001b[0m\n\u001b[0;32m---> 10\u001b[0;31m \u001b[0mprint\u001b[0m\u001b[0;34m(\u001b[0m\u001b[0;34m\"d[2] = \"\u001b[0m\u001b[0;34m,\u001b[0m \u001b[0md\u001b[0m\u001b[0;34m[\u001b[0m\u001b[0;36m2\u001b[0m\u001b[0;34m]\u001b[0m\u001b[0;34m)\u001b[0m\u001b[0;34m\u001b[0m\u001b[0;34m\u001b[0m\u001b[0m\n\u001b[0m",
      "\u001b[0;31mKeyError\u001b[0m: 2"
     ]
    }
   ],
   "source": [
    "d = {1:'value','key':2}\n",
    "print(type(d))\n",
    "\n",
    "\n",
    "print(\"d[1] = \", d[1])\n",
    "\n",
    "print(\"d['key'] = \", d['key'])\n",
    "\n",
    "# Generates error\n",
    "print(\"d[2] = \", d[2])"
   ]
  },
  {
   "cell_type": "markdown",
   "id": "ced4b666",
   "metadata": {},
   "source": [
    "# 2. Python Type Conversion and Type Casting"
   ]
  },
  {
   "cell_type": "markdown",
   "id": "e0880a29",
   "metadata": {},
   "source": [
    "### Type Conversion \n",
    "\n",
    "The process of converting the value of one data type (integer, string, float, etc.) to another data type is called type conversion. Python has two types of type conversion.\n",
    "\n",
    "* Implicit Type Conversion\n",
    "* Explicit Type Conversion"
   ]
  },
  {
   "cell_type": "code",
   "execution_count": 14,
   "id": "93e51d79",
   "metadata": {},
   "outputs": [
    {
     "name": "stdout",
     "output_type": "stream",
     "text": [
      "datatype of num_int: <class 'int'>\n",
      "datatype of num_flo: <class 'float'>\n",
      "Value of num_new: 124.23\n",
      "datatype of num_new: <class 'float'>\n"
     ]
    }
   ],
   "source": [
    "# Example 1: Converting integer to float \n",
    "\n",
    "num_int = 123\n",
    "\n",
    "num_flo = 1.23\n",
    "\n",
    "num_new = num_int + num_flo\n",
    "\n",
    "\n",
    "print(\"datatype of num_int:\",type(num_int))\n",
    "print(\"datatype of num_flo:\",type(num_flo))\n",
    "print(\"Value of num_new:\",num_new)\n",
    "print(\"datatype of num_new:\",type(num_new))"
   ]
  },
  {
   "cell_type": "markdown",
   "id": "18eec04d",
   "metadata": {},
   "source": [
    "In the above program,\n",
    "\n",
    "* We add two variables num_int and num_flo, storing the value in num_new.\n",
    "* We will look at the data type of all three objects respectively.\n",
    "* In the output, we can see the data type of num_int is an integer while the data type of num_flo is a float.\n",
    "* Also, we can see the num_new has a float data type because Python always converts smaller data types to larger data types to avoid the loss of data."
   ]
  },
  {
   "cell_type": "code",
   "execution_count": 15,
   "id": "06de114d",
   "metadata": {},
   "outputs": [
    {
     "name": "stdout",
     "output_type": "stream",
     "text": [
      "Data type of num_int: <class 'int'>\n",
      "Data type of num_str: <class 'str'>\n"
     ]
    },
    {
     "ename": "TypeError",
     "evalue": "unsupported operand type(s) for +: 'int' and 'str'",
     "output_type": "error",
     "traceback": [
      "\u001b[0;31m-------------------------------------------------------------------\u001b[0m",
      "\u001b[0;31mTypeError\u001b[0m                         Traceback (most recent call last)",
      "\u001b[0;32m<ipython-input-15-f43fa92edb75>\u001b[0m in \u001b[0;36m<module>\u001b[0;34m\u001b[0m\n\u001b[1;32m      7\u001b[0m \u001b[0mprint\u001b[0m\u001b[0;34m(\u001b[0m\u001b[0;34m\"Data type of num_int:\"\u001b[0m\u001b[0;34m,\u001b[0m\u001b[0mtype\u001b[0m\u001b[0;34m(\u001b[0m\u001b[0mnum_int\u001b[0m\u001b[0;34m)\u001b[0m\u001b[0;34m)\u001b[0m\u001b[0;34m\u001b[0m\u001b[0;34m\u001b[0m\u001b[0m\n\u001b[1;32m      8\u001b[0m \u001b[0mprint\u001b[0m\u001b[0;34m(\u001b[0m\u001b[0;34m\"Data type of num_str:\"\u001b[0m\u001b[0;34m,\u001b[0m\u001b[0mtype\u001b[0m\u001b[0;34m(\u001b[0m\u001b[0mnum_str\u001b[0m\u001b[0;34m)\u001b[0m\u001b[0;34m)\u001b[0m\u001b[0;34m\u001b[0m\u001b[0;34m\u001b[0m\u001b[0m\n\u001b[0;32m----> 9\u001b[0;31m \u001b[0mprint\u001b[0m\u001b[0;34m(\u001b[0m\u001b[0mnum_int\u001b[0m\u001b[0;34m+\u001b[0m\u001b[0mnum_str\u001b[0m\u001b[0;34m)\u001b[0m\u001b[0;34m\u001b[0m\u001b[0;34m\u001b[0m\u001b[0m\n\u001b[0m",
      "\u001b[0;31mTypeError\u001b[0m: unsupported operand type(s) for +: 'int' and 'str'"
     ]
    }
   ],
   "source": [
    "# Example 2: Addition of string(higher) data type and integer(lower) datatype\n",
    "\n",
    "num_int = 123\n",
    "\n",
    "num_str = \"456\"\n",
    "\n",
    "print(\"Data type of num_int:\",type(num_int))\n",
    "print(\"Data type of num_str:\",type(num_str))\n",
    "print(num_int+num_str)"
   ]
  },
  {
   "cell_type": "markdown",
   "id": "27052871",
   "metadata": {},
   "source": [
    "In the above program,\n",
    "\n",
    "* We add two variables num_int and num_str.\n",
    "\n",
    "* As we can see from the output, we got TypeError. Python is not able to use Implicit Conversion in such conditions.\n",
    "\n",
    "* However, Python has a solution for these types of situations which is known as Explicit Conversion."
   ]
  },
  {
   "cell_type": "markdown",
   "id": "3dfb1372",
   "metadata": {},
   "source": [
    "## 2.1 Explicit Type Conversion \n",
    "\n",
    "In Explicit Type Conversion, users convert the data type of an object to required data type. We use the predefined functions like int(), float(), str(), etc to perform explicit type conversion.\n",
    "This type of conversion is also called typecasting because the user casts (changes) the data type of the objects.\n",
    "Syntax :"
   ]
  },
  {
   "cell_type": "code",
   "execution_count": null,
   "id": "468092de",
   "metadata": {},
   "outputs": [],
   "source": [
    "<required_datatype>(expression)"
   ]
  },
  {
   "cell_type": "markdown",
   "id": "cf19efc5",
   "metadata": {},
   "source": [
    "Typecasting can be done by assigning the required data type function to the expression."
   ]
  },
  {
   "cell_type": "code",
   "execution_count": 16,
   "id": "f506d2ed",
   "metadata": {},
   "outputs": [
    {
     "name": "stdout",
     "output_type": "stream",
     "text": [
      "Data type of num_int: <class 'int'>\n",
      "Data type of num_str before Type Casting: <class 'str'>\n",
      "Data type of num_str after Type Casting: <class 'int'>\n",
      "Sum of num_int and num_str: 579\n",
      "Data type of the sum: <class 'int'>\n"
     ]
    }
   ],
   "source": [
    "# Example 3: Addition of string and integer using explicit conversion\n",
    "\n",
    "num_int = 123\n",
    "\n",
    "num_str = \"456\"\n",
    "\n",
    "print(\"Data type of num_int:\",type(num_int))\n",
    "\n",
    "print(\"Data type of num_str before Type Casting:\",type(num_str))\n",
    "\n",
    "num_str = int(num_str)\n",
    "\n",
    "print(\"Data type of num_str after Type Casting:\",type(num_str))\n",
    "\n",
    "num_sum = num_int + num_str\n",
    "\n",
    "print(\"Sum of num_int and num_str:\",num_sum)\n",
    "\n",
    "print(\"Data type of the sum:\",type(num_sum))"
   ]
  },
  {
   "cell_type": "markdown",
   "id": "784946dc",
   "metadata": {},
   "source": [
    "In the above program,\n",
    "\n",
    "* We add num_str and num_int variable.\n",
    "\n",
    "* We converted num_str from string(higher) to integer(lower) type using int() function to perform the addition.\n",
    "\n",
    "* After converting num_str to an integer value, Python is able to add these two variables.\n",
    "\n",
    "* We got the num_sum value and data type to be an integer."
   ]
  },
  {
   "cell_type": "markdown",
   "id": "5ed2a3eb",
   "metadata": {},
   "source": [
    "### Key Points to Remember \n",
    "\n",
    "* Type Conversion is the conversion of object from one data type to another data type.\n",
    "\n",
    "* Implicit Type Conversion is automatically performed by the Python interpreter.\n",
    "\n",
    "* Python avoids the loss of data in Implicit Type Conversion.\n",
    "\n",
    "* Explicit Type Conversion is also called Type Casting, the data types of objects are converted using predefined functions by the user.\n",
    "\n",
    "* In Type Casting, loss of data may occur as we enforce the object to a specific data type."
   ]
  }
 ],
 "metadata": {
  "kernelspec": {
   "display_name": "Python 3",
   "language": "python",
   "name": "python3"
  },
  "language_info": {
   "codemirror_mode": {
    "name": "ipython",
    "version": 3
   },
   "file_extension": ".py",
   "mimetype": "text/x-python",
   "name": "python",
   "nbconvert_exporter": "python",
   "pygments_lexer": "ipython3",
   "version": "3.8.3"
  }
 },
 "nbformat": 4,
 "nbformat_minor": 5
}
