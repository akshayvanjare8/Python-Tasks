{
 "cells": [
  {
   "cell_type": "markdown",
   "id": "e7d1f570",
   "metadata": {},
   "source": [
    "### Created By : Akshay Nivrutti Vanjare"
   ]
  },
  {
   "cell_type": "markdown",
   "id": "e3b19c30",
   "metadata": {},
   "source": [
    "# 1. Python Input, Output and Import"
   ]
  },
  {
   "cell_type": "markdown",
   "id": "ec6869b2",
   "metadata": {},
   "source": [
    "## 1.1 Python Output Using print() function \n",
    "\n",
    "We use the print() function to output data to the standard output device (screen). We can also output data to a file, but this will be discussed later.\n",
    "An example of its use is given below."
   ]
  },
  {
   "cell_type": "code",
   "execution_count": 1,
   "id": "a6842c05",
   "metadata": {},
   "outputs": [
    {
     "name": "stdout",
     "output_type": "stream",
     "text": [
      "This sentence is output to the screen\n"
     ]
    }
   ],
   "source": [
    "print('This sentence is output to the screen')"
   ]
  },
  {
   "cell_type": "code",
   "execution_count": 2,
   "id": "236d3b04",
   "metadata": {},
   "outputs": [
    {
     "name": "stdout",
     "output_type": "stream",
     "text": [
      "The value of a is 5\n"
     ]
    }
   ],
   "source": [
    "a = 5\n",
    "print('The value of a is', a)"
   ]
  },
  {
   "cell_type": "markdown",
   "id": "8c65c810",
   "metadata": {},
   "source": [
    "The actual syntax of the print() function is: \n",
    "    \n",
    "**print(*objects, sep=' ', end='\\n', file=sys.stdout, flush=False)**"
   ]
  },
  {
   "cell_type": "code",
   "execution_count": 3,
   "id": "f796e9d5",
   "metadata": {},
   "outputs": [
    {
     "name": "stdout",
     "output_type": "stream",
     "text": [
      "1 2 3 4\n",
      "1*2*3*4\n",
      "1#2#3#4&"
     ]
    }
   ],
   "source": [
    "print(1, 2, 3, 4)\n",
    "print(1, 2, 3, 4, sep='*')\n",
    "print(1, 2, 3, 4, sep='#', end='&')"
   ]
  },
  {
   "cell_type": "markdown",
   "id": "a9ddac75",
   "metadata": {},
   "source": [
    "# 1.2 Output formatting \n",
    "\n",
    "Sometimes we would like to format our output to make it look attractive. This can be done by using the str.format() method. This method is visible to any string object."
   ]
  },
  {
   "cell_type": "code",
   "execution_count": 5,
   "id": "1285dcbc",
   "metadata": {},
   "outputs": [
    {
     "name": "stdout",
     "output_type": "stream",
     "text": [
      "The value of x is 5 and y is 10\n"
     ]
    }
   ],
   "source": [
    "x = 5; y = 10 \n",
    "\n",
    "print('The value of x is {} and y is {}'.format(x,y)) \n",
    "\n",
    "#The value of x is 5 and y is 10"
   ]
  },
  {
   "cell_type": "code",
   "execution_count": 6,
   "id": "0dc2e34f",
   "metadata": {},
   "outputs": [
    {
     "name": "stdout",
     "output_type": "stream",
     "text": [
      "I love bread and butter\n",
      "I love butter and bread\n"
     ]
    }
   ],
   "source": [
    "print('I love {0} and {1}'.format('bread','butter'))\n",
    "print('I love {1} and {0}'.format('bread','butter'))"
   ]
  },
  {
   "cell_type": "markdown",
   "id": "e3958125",
   "metadata": {},
   "source": [
    "We can even use keyword arguments to format the string."
   ]
  },
  {
   "cell_type": "code",
   "execution_count": 7,
   "id": "80d2f21f",
   "metadata": {},
   "outputs": [
    {
     "name": "stdout",
     "output_type": "stream",
     "text": [
      "Hello John, Goodmorning\n"
     ]
    }
   ],
   "source": [
    "print('Hello {name}, {greeting}'.format(greeting = 'Goodmorning', name = 'John'))\n"
   ]
  },
  {
   "cell_type": "markdown",
   "id": "0fd6dd4c",
   "metadata": {},
   "source": [
    "We can also format strings like the old sprintf() style used in C programming language. We use the % operator to accomplish this."
   ]
  },
  {
   "cell_type": "code",
   "execution_count": 8,
   "id": "9cf03764",
   "metadata": {},
   "outputs": [
    {
     "name": "stdout",
     "output_type": "stream",
     "text": [
      "The value of x is 12.35\n",
      "The value of x is 12.3457\n"
     ]
    }
   ],
   "source": [
    "x = 12.3456789\n",
    "print('The value of x is %3.2f' %x)\n",
    "print('The value of x is %3.4f' %x)"
   ]
  },
  {
   "cell_type": "markdown",
   "id": "f044ca95",
   "metadata": {},
   "source": [
    "## 1.3 Python Input \n",
    "\n",
    "Up until now, our programs were static. The value of variables was defined or hard coded into the source code.\n",
    "To allow flexibility, we might want to take the input from the user. In Python, we have the input() function to allow this. The syntax for input() is:"
   ]
  },
  {
   "cell_type": "code",
   "execution_count": null,
   "id": "950b3064",
   "metadata": {},
   "outputs": [],
   "source": [
    "input([prompt])"
   ]
  },
  {
   "cell_type": "markdown",
   "id": "4d3e4ded",
   "metadata": {},
   "source": [
    "where prompt is the string we wish to display on the screen. It is optional."
   ]
  },
  {
   "cell_type": "code",
   "execution_count": 10,
   "id": "4c57c082",
   "metadata": {},
   "outputs": [
    {
     "name": "stdout",
     "output_type": "stream",
     "text": [
      "Enter a number: Eww\n"
     ]
    },
    {
     "data": {
      "text/plain": [
       "'Eww'"
      ]
     },
     "execution_count": 10,
     "metadata": {},
     "output_type": "execute_result"
    }
   ],
   "source": [
    "num = input('Enter a number: ')\n",
    "num "
   ]
  },
  {
   "cell_type": "markdown",
   "id": "6ece1161",
   "metadata": {},
   "source": [
    "## 1.4 Python Import \n",
    "\n",
    "When our program grows bigger, it is a good idea to break it into different modules.\n",
    "A module is a file containing Python definitions and statements. Python modules have a filename and end with the extension .py.\n",
    "Definitions inside a module can be imported to another module or the interactive interpreter in Python. We use the import keyword to do this.\n",
    "For example, we can import the math module by typing the following line:"
   ]
  },
  {
   "cell_type": "code",
   "execution_count": 11,
   "id": "9f42266f",
   "metadata": {},
   "outputs": [],
   "source": [
    "import math"
   ]
  },
  {
   "cell_type": "code",
   "execution_count": 14,
   "id": "c9626a63",
   "metadata": {},
   "outputs": [
    {
     "name": "stdout",
     "output_type": "stream",
     "text": [
      "3.141592653589793\n"
     ]
    }
   ],
   "source": [
    "import math\n",
    "print(math.pi)"
   ]
  },
  {
   "cell_type": "code",
   "execution_count": 15,
   "id": "a79c58a9",
   "metadata": {},
   "outputs": [
    {
     "data": {
      "text/plain": [
       "3.141592653589793"
      ]
     },
     "execution_count": 15,
     "metadata": {},
     "output_type": "execute_result"
    }
   ],
   "source": [
    "from math import pi \n",
    "pi "
   ]
  },
  {
   "cell_type": "code",
   "execution_count": 16,
   "id": "d97c727b",
   "metadata": {},
   "outputs": [
    {
     "data": {
      "text/plain": [
       "['/storage/emulated/0/Python',\n",
       " '/data/user/0/ru.iiec.pydroid3/files/aarch64-linux-android/lib/python38.zip',\n",
       " '/data/user/0/ru.iiec.pydroid3/files/aarch64-linux-android/lib/python3.8',\n",
       " '/data/user/0/ru.iiec.pydroid3/files/aarch64-linux-android/lib/python3.8/lib-dynload',\n",
       " '',\n",
       " '/data/user/0/ru.iiec.pydroid3/app_HOME/.local/lib/python3.8/site-packages',\n",
       " '/data/user/0/ru.iiec.pydroid3/files/aarch64-linux-android/lib/python3.8/site-packages',\n",
       " '/data/user/0/ru.iiec.pydroid3/files/aarch64-linux-android/lib/python3.8/site-packages/IPython/extensions',\n",
       " '/data/data/ru.iiec.pydroid3/app_HOME/.ipython']"
      ]
     },
     "execution_count": 16,
     "metadata": {},
     "output_type": "execute_result"
    }
   ],
   "source": [
    "import sys\n",
    "sys.path"
   ]
  },
  {
   "cell_type": "markdown",
   "id": "e4bffa81",
   "metadata": {},
   "source": [
    "# 2. Python Operators"
   ]
  },
  {
   "cell_type": "markdown",
   "id": "290eaa32",
   "metadata": {},
   "source": [
    "What are operators in python?\n",
    "Operators are special symbols in Python that carry out arithmetic or logical computation. The value that the operator operates on is called the operand.\n",
    "For example:"
   ]
  },
  {
   "cell_type": "code",
   "execution_count": 17,
   "id": "7ca6729f",
   "metadata": {},
   "outputs": [
    {
     "data": {
      "text/plain": [
       "7"
      ]
     },
     "execution_count": 17,
     "metadata": {},
     "output_type": "execute_result"
    }
   ],
   "source": [
    "2 + 5 "
   ]
  },
  {
   "cell_type": "markdown",
   "id": "bc762e35",
   "metadata": {},
   "source": [
    "## 2.1 Arithmetic operators \n",
    "\n",
    "Arithmetic operators are used to perform mathematical operations like addition, subtraction, multiplication, etc."
   ]
  },
  {
   "cell_type": "code",
   "execution_count": 1,
   "id": "118944d1",
   "metadata": {},
   "outputs": [
    {
     "name": "stdout",
     "output_type": "stream",
     "text": [
      "x + y = 19\n",
      "x - y = 11\n",
      "x * y = 60\n",
      "x / y = 3.75\n",
      "x // y = 3\n",
      "x ** y = 50625\n"
     ]
    }
   ],
   "source": [
    "x = 15\n",
    "y = 4 \n",
    "\n",
    "# Output: x + y = 19\n",
    "print('x + y =',x+y) \n",
    "\n",
    "# Output: x - y = 11\n",
    "print('x - y =',x-y) \n",
    "\n",
    "# Output: x * y = 60\n",
    "print('x * y =',x*y) \n",
    "\n",
    "# Output: x / y = 3.75\n",
    "print('x / y =',x/y) \n",
    "\n",
    "# Output: x // y = 3\n",
    "print('x // y =',x//y) \n",
    "\n",
    "# Output: x ** y = 50625\n",
    "print('x ** y =',x**y)"
   ]
  },
  {
   "cell_type": "markdown",
   "id": "1401c8ae",
   "metadata": {},
   "source": [
    "## 2.2 Comparison operators \n",
    "\n",
    "Comparison operators are used to compare values. It returns either True or False according to the condition."
   ]
  },
  {
   "cell_type": "code",
   "execution_count": 2,
   "id": "a22de123",
   "metadata": {},
   "outputs": [
    {
     "name": "stdout",
     "output_type": "stream",
     "text": [
      "x > y is False\n",
      "x < y is True\n",
      "x == y is False\n",
      "x != y is True\n",
      "x >= y is False\n",
      "x <= y is True\n"
     ]
    }
   ],
   "source": [
    "x = 10\n",
    "y = 12 \n",
    "\n",
    "# Output: x > y is False\n",
    "print('x > y is',x>y) \n",
    "\n",
    "# Output: x < y is True\n",
    "print('x < y is',x<y) \n",
    "\n",
    "# Output: x == y is False\n",
    "print('x == y is',x==y) \n",
    "\n",
    "# Output: x != y is True\n",
    "print('x != y is',x!=y) \n",
    "\n",
    "# Output: x >= y is False\n",
    "print('x >= y is',x>=y) \n",
    "\n",
    "# Output: x <= y is True\n",
    "print('x <= y is',x<=y)"
   ]
  },
  {
   "cell_type": "markdown",
   "id": "1a1be883",
   "metadata": {},
   "source": [
    "## 2.3 Logical operators \n",
    "\n",
    "Logical operators are the and, or, not operators."
   ]
  },
  {
   "cell_type": "code",
   "execution_count": 4,
   "id": "18834a3b",
   "metadata": {},
   "outputs": [
    {
     "name": "stdout",
     "output_type": "stream",
     "text": [
      "x and y is False\n",
      "x or y is True\n",
      "not x is False\n"
     ]
    }
   ],
   "source": [
    "x = True\n",
    "y = False \n",
    "\n",
    "print('x and y is',x and y)\n",
    "\n",
    "print('x or y is',x or y) \n",
    "\n",
    "print('not x is',not x)"
   ]
  },
  {
   "cell_type": "markdown",
   "id": "8707a3d6",
   "metadata": {},
   "source": [
    "## 2.4 Bitwise operators \n",
    "\n",
    "Bitwise operators act on operands as if they were strings of binary digits. They operate bit by bit, hence the name.\n",
    "For example, 2 is 10 in binary and 7 is 111.\n",
    "In the table below: Let x = 10 (0000 1010 in binary) and y = 4 (0000 0100 in binary)"
   ]
  },
  {
   "cell_type": "markdown",
   "id": "710d1a0c",
   "metadata": {},
   "source": [
    "## 2.5 Assignment operators \n",
    "\n",
    "Assignment operators are used in Python to assign values to variables.\n",
    "a = 5 is a simple assignment operator that assigns the value 5 on the right to the variable a on the left.\n",
    "There are various compound operators in Python like a += 5 that adds to the variable and later assigns the same. It is equivalent to a = a + 5."
   ]
  },
  {
   "cell_type": "markdown",
   "id": "78be1d87",
   "metadata": {},
   "source": [
    "## 2.6 Special operators \n",
    "\n",
    "Python language offers some special types of operators like the identity operator or the membership operator. They are described below with examples.\n",
    "\n",
    "### Identity operators \n",
    "\n",
    "is and is not are the identity operators in Python. They are used to check if two values (or variables) are located on the same part of the memory. Two variables that are equal does not imply that they are identical. \n",
    "\n",
    "### Membership operators \n",
    "\n",
    "in and not in are the membership operators in Python. They are used to test whether a value or variable is found in a sequence (string, list, tuple, set and dictionary).\n",
    "In a dictionary we can only test for presence of key, not the value."
   ]
  },
  {
   "cell_type": "code",
   "execution_count": null,
   "id": "84f8f8a3",
   "metadata": {},
   "outputs": [],
   "source": []
  }
 ],
 "metadata": {
  "kernelspec": {
   "display_name": "Python 3",
   "language": "python",
   "name": "python3"
  },
  "language_info": {
   "codemirror_mode": {
    "name": "ipython",
    "version": 3
   },
   "file_extension": ".py",
   "mimetype": "text/x-python",
   "name": "python",
   "nbconvert_exporter": "python",
   "pygments_lexer": "ipython3",
   "version": "3.8.3"
  }
 },
 "nbformat": 4,
 "nbformat_minor": 5
}
