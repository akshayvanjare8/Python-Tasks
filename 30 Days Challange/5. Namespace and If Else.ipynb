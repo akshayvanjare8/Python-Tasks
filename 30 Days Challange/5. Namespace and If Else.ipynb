{
 "cells": [
  {
   "cell_type": "markdown",
   "id": "d9163c4f",
   "metadata": {},
   "source": [
    "### Created By : Akshay Nivrutti Vanjare"
   ]
  },
  {
   "cell_type": "markdown",
   "id": "7edefaaf",
   "metadata": {},
   "source": [
    "# 1. Python Namespace and Scope"
   ]
  },
  {
   "cell_type": "markdown",
   "id": "79332492",
   "metadata": {},
   "source": [
    "## 1.1 What is Name in Python? \n",
    "\n",
    "If you have ever read 'The Zen of Python' (type import this in the Python interpreter), the last line states, Namespaces are one honking great idea -- let's do more of those! So what are these mysterious namespaces? Let us first look at what name is.\n",
    "\n",
    "Name (also called identifier) is simply a name given to objects. Everything in Python is an object. Name is a way to access the underlying object.\n",
    "\n",
    "For example, when we do the assignment a = 2, 2 is an object stored in memory and a is the name we associate it with. We can get the address (in RAM) of some object through the built-in function id(). Let's look at how to use it."
   ]
  },
  {
   "cell_type": "code",
   "execution_count": 1,
   "id": "a5dfdc96",
   "metadata": {},
   "outputs": [
    {
     "name": "stdout",
     "output_type": "stream",
     "text": [
      "id(2) = 535485056016\n",
      "id(a) = 535485056016\n"
     ]
    }
   ],
   "source": [
    "# Note: You may get different values for the id\n",
    "\n",
    "a = 2 \n",
    "\n",
    "print('id(2) =', id(2))\n",
    "print('id(a) =', id(a))"
   ]
  },
  {
   "cell_type": "markdown",
   "id": "bcc962bf",
   "metadata": {},
   "source": [
    "Here, both refer to the same object 2, so they have the same id(). Let's make things a little more interesting."
   ]
  },
  {
   "cell_type": "code",
   "execution_count": 2,
   "id": "2abf1aa1",
   "metadata": {},
   "outputs": [
    {
     "name": "stdout",
     "output_type": "stream",
     "text": [
      "id(a) = 535485056016\n",
      "id(a) = 535485056048\n",
      "id(3) = 535485056048\n",
      "id(b) = 535485056016\n",
      "id(2) = 535485056016\n"
     ]
    }
   ],
   "source": [
    "# Note: You may get different values for the id\n",
    "\n",
    "a = 2\n",
    "\n",
    "print('id(a) =', id(a))\n",
    "\n",
    "a = a+1\n",
    "\n",
    "print('id(a) =', id(a))\n",
    "print('id(3) =', id(3))\n",
    "\n",
    "b = 2\n",
    "\n",
    "print('id(b) =', id(b))\n",
    "print('id(2) =', id(2))"
   ]
  },
  {
   "cell_type": "markdown",
   "id": "36235bce",
   "metadata": {},
   "source": [
    "What is happening in the above sequence of steps? Let's use a diagram to explain this:"
   ]
  },
  {
   "cell_type": "markdown",
   "id": "a778b4ac",
   "metadata": {},
   "source": [
    "Initially, an object 2 is created and the name a is associated with it, when we do a = a+1, a new object 3 is created and now a is associated with this object.\n",
    "\n",
    "Note that id(a) and id(3) have the same values.\n",
    "\n",
    "Furthermore, when b = 2 is executed, the new name b gets associated with the previous object 2.\n",
    "\n",
    "This is efficient as Python does not have to create a new duplicate object. This dynamic nature of name binding makes Python powerful; a name could refer to any type of object."
   ]
  },
  {
   "cell_type": "code",
   "execution_count": 3,
   "id": "5bf12db6",
   "metadata": {},
   "outputs": [],
   "source": [
    "a = 5\n",
    "\n",
    "a = 'Hello World!'\n",
    "\n",
    "a = [1,2,3]"
   ]
  },
  {
   "cell_type": "markdown",
   "id": "2eea90a2",
   "metadata": {},
   "source": [
    "All these are valid and a will refer to three different types of objects in different instances. Functions are objects too, so a name can refer to them as well."
   ]
  },
  {
   "cell_type": "code",
   "execution_count": 4,
   "id": "3a8694cc",
   "metadata": {},
   "outputs": [
    {
     "name": "stdout",
     "output_type": "stream",
     "text": [
      "Hello\n"
     ]
    }
   ],
   "source": [
    "def printHello():\n",
    "    print(\"Hello\")\n",
    "    \n",
    "a = printHello \n",
    "\n",
    "a()"
   ]
  },
  {
   "cell_type": "markdown",
   "id": "982440df",
   "metadata": {},
   "source": [
    "## 1.2 What is a Namespace in Python?\n",
    "\n",
    "Now that we understand what names are, we can move on to the concept of namespaces.\n",
    "\n",
    "To simply put it, a namespace is a collection of names.\n",
    "\n",
    "In Python, you can imagine a namespace as a mapping of every name you have defined to corresponding objects.\n",
    "\n",
    "Different namespaces can co-exist at a given time but are completely isolated.\n",
    "\n",
    "A namespace containing all the built-in names is created when we start the Python interpreter and exists as long as the interpreter runs."
   ]
  },
  {
   "cell_type": "markdown",
   "id": "4ed5e908",
   "metadata": {},
   "source": [
    "This is the reason that built-in functions like id(), print() etc. are always available to us from any part of the program. Each module creates its own global namespace.\n",
    "\n",
    "These different namespaces are isolated. Hence, the same name that may exist in different modules does not collide.\n",
    "\n",
    "Modules can have various functions and classes. A local namespace is created when a function is called, which has all the names defined in it. Similar is the case with class. The following diagram may help to clarify this concept."
   ]
  },
  {
   "cell_type": "markdown",
   "id": "a101927c",
   "metadata": {},
   "source": [
    "## 1.3 Python Variable Scope\n",
    "\n",
    "Although there are various unique namespaces defined, we may not be able to access all of them from every part of the program. The concept of scope comes into play.\n",
    "\n",
    "A scope is the portion of a program from where a namespace can be accessed directly without any prefix.\n",
    "\n",
    "At any given moment, there are at least three nested scopes.\n",
    "\n",
    "* Scope of the current function which has local names\n",
    "\n",
    "* Scope of the module which has global names\n",
    "\n",
    "* Outermost scope which has built-in names"
   ]
  },
  {
   "cell_type": "markdown",
   "id": "a4f7723a",
   "metadata": {},
   "source": [
    "When a reference is made inside a function, the name is searched in the local namespace, then in the global namespace and finally in the built-in namespace.\n",
    "\n",
    "If there is a function inside another function, a new scope is nested inside the local scope.\n"
   ]
  },
  {
   "cell_type": "code",
   "execution_count": 5,
   "id": "fc9e2005",
   "metadata": {},
   "outputs": [],
   "source": [
    "def outer_function():\n",
    "    b = 20\n",
    "    def inner_func():\n",
    "        c = 30\n",
    "a = 10"
   ]
  },
  {
   "cell_type": "code",
   "execution_count": 6,
   "id": "2d6b7aed",
   "metadata": {},
   "outputs": [
    {
     "name": "stdout",
     "output_type": "stream",
     "text": [
      "a = 30\n",
      "a = 20\n",
      "a = 10\n"
     ]
    }
   ],
   "source": [
    "def outer_function():\n",
    "    a = 20\n",
    "    def inner_function():\n",
    "        a = 30\n",
    "        print('a =', a)\n",
    "    inner_function()\n",
    "    print('a =', a)\n",
    "a = 10\n",
    "outer_function()\n",
    "print('a =', a)"
   ]
  },
  {
   "cell_type": "code",
   "execution_count": 7,
   "id": "9aa3685d",
   "metadata": {},
   "outputs": [
    {
     "name": "stdout",
     "output_type": "stream",
     "text": [
      "a = 30\n",
      "a = 30\n",
      "a = 30\n"
     ]
    }
   ],
   "source": [
    "def outer_function():\n",
    "    global a\n",
    "    a = 20\n",
    "    def inner_function():\n",
    "        global a\n",
    "        a = 30\n",
    "        print('a =', a)\n",
    "    inner_function()\n",
    "    print('a =', a)\n",
    "a = 10\n",
    "outer_function()\n",
    "print('a =', a)"
   ]
  },
  {
   "cell_type": "markdown",
   "id": "a016b17e",
   "metadata": {},
   "source": [
    "# 2. Python if...else Statement"
   ]
  },
  {
   "cell_type": "markdown",
   "id": "b33b3939",
   "metadata": {},
   "source": [
    "\n",
    "If 2.1 What is if...else statement in Python?\n",
    "\n",
    "Decision making is required when we want to execute a code only if a certain condition is satisfied.\n",
    "\n",
    "The if…elif…else statement is used in Python for decision making.\n",
    "\n",
    "### Python if Statement Syntax\n",
    "\n",
    "if test expression:\n",
    "    statement(s)\n",
    "\n",
    "Here, the program evaluates the test expression and will execute statement(s) only if the test expression is True.\n",
    "\n",
    "If the test expression is False, the statement(s) is not executed."
   ]
  },
  {
   "cell_type": "markdown",
   "id": "95331911",
   "metadata": {},
   "source": [
    "![image info](../Download/Python_if_statement.webp)"
   ]
  },
  {
   "cell_type": "code",
   "execution_count": 8,
   "id": "7e23d42e",
   "metadata": {},
   "outputs": [
    {
     "name": "stdout",
     "output_type": "stream",
     "text": [
      "3 is a positive number.\n",
      "This is always printed.\n",
      "This is also always printed.\n"
     ]
    }
   ],
   "source": [
    "# If the number is positive, we print an appropriate message\n",
    "\n",
    "num = 3\n",
    "\n",
    "if num > 0:\n",
    "    print(num, \"is a positive number.\")\n",
    "print(\"This is always printed.\")\n",
    "\n",
    "num = -1\n",
    "\n",
    "if num > 0:\n",
    "    print(num, \"is a positive number.\")\n",
    "print(\"This is also always printed.\")"
   ]
  },
  {
   "cell_type": "markdown",
   "id": "3e2569cb",
   "metadata": {},
   "source": [
    "In the above example, num > 0 is the test expression.\n",
    "\n",
    "The body of if is executed only if this evaluates to True.\n",
    "\n",
    "When the variable num is equal to 3, test expression is true and statements inside the body of if are executed.\n",
    "\n",
    "If the variable num is equal to -1, test expression is false and statements inside the body of if are skipped.\n",
    "\n",
    "The print() statement falls outside of the if block (unindented). Hence, it is executed regardless of the test expression.\n"
   ]
  },
  {
   "cell_type": "markdown",
   "id": "d3fa607f",
   "metadata": {},
   "source": [
    "## Python if...else Statement\n",
    "### Syntax of if...else"
   ]
  },
  {
   "cell_type": "code",
   "execution_count": null,
   "id": "744703a3",
   "metadata": {},
   "outputs": [],
   "source": [
    "if test expression:\n",
    "    Body of if\n",
    "else:\n",
    "    Body of else"
   ]
  },
  {
   "cell_type": "markdown",
   "id": "1ff8bbd9",
   "metadata": {},
   "source": [
    "The if..else statement evaluates test expression and will execute the body of if only when the test condition is True.\n",
    "\n",
    "If the condition is False, the body of else is executed. Indentation is used to separate the blocks."
   ]
  },
  {
   "cell_type": "markdown",
   "id": "538c47f9",
   "metadata": {},
   "source": [
    "![image info](../Download/Python_if_else_statement.webp)"
   ]
  },
  {
   "cell_type": "code",
   "execution_count": 9,
   "id": "a4a4d115",
   "metadata": {},
   "outputs": [
    {
     "name": "stdout",
     "output_type": "stream",
     "text": [
      "Positive or Zero\n"
     ]
    }
   ],
   "source": [
    "# Program checks if the number is positive or negative\n",
    "# And displays an appropriate message \n",
    "\n",
    "num = 3\n",
    "\n",
    "# Try these two variations as well. \n",
    "# num = -5\n",
    "# num = 0 \n",
    "\n",
    "if num >= 0:\n",
    "    print(\"Positive or Zero\")\n",
    "else:\n",
    "    print(\"Negative number\")"
   ]
  },
  {
   "cell_type": "markdown",
   "id": "cd9520ac",
   "metadata": {},
   "source": [
    "## Python if...elif...else Statement\n",
    "### Syntax of if...elif...else"
   ]
  },
  {
   "cell_type": "code",
   "execution_count": null,
   "id": "2b5b8fcb",
   "metadata": {},
   "outputs": [],
   "source": [
    "if test expression:\n",
    "    Body of if\n",
    "elif test expression:\n",
    "    Body of elif\n",
    "else: \n",
    "    Body of else"
   ]
  },
  {
   "cell_type": "markdown",
   "id": "db6dcb00",
   "metadata": {},
   "source": [
    "The elif is short for else if. It allows us to check for multiple expressions.\n",
    "\n",
    "If the condition for if is False, it checks the condition of the next elif block and so on.\n",
    "\n",
    "If all the conditions are False, the body of else is executed.\n",
    "\n",
    "Only one block among the several if...elif...else blocks is executed according to the condition.\n",
    "\n",
    "The if block can have only one else block. But it can have multiple elif blocks."
   ]
  },
  {
   "cell_type": "markdown",
   "id": "23a3f9ae",
   "metadata": {},
   "source": [
    "![image info](../Download/Python_if_elif_else_statement.webp)"
   ]
  },
  {
   "cell_type": "code",
   "execution_count": 10,
   "id": "0d04e9ef",
   "metadata": {},
   "outputs": [
    {
     "name": "stdout",
     "output_type": "stream",
     "text": [
      "Positive number\n"
     ]
    }
   ],
   "source": [
    "'''In this program, \n",
    "we check if the number is positive or\n",
    "negative or zero and \n",
    "display an appropriate message''' \n",
    "\n",
    "num = 3.4 \n",
    "\n",
    "# Try these two variations as well:\n",
    "# num = 0\n",
    "# num = -4.5 \n",
    "\n",
    "if num > 0:\n",
    "    print(\"Positive number\")\n",
    "elif num == 0:\n",
    "    print(\"Zero\")\n",
    "else:\n",
    "    print(\"Negative number\")"
   ]
  },
  {
   "cell_type": "markdown",
   "id": "891bcc6b",
   "metadata": {},
   "source": [
    "## Python Nested if statements\n",
    "\n",
    "We can have a if...elif...else statement inside another if...elif...else statement. This is called nesting in computer programming.\n",
    "\n",
    "Any number of these statements can be nested inside one another. Indentation is the only way to figure out the level of nesting. They can get confusing, so they must be avoided unless necessary.\n",
    "\n",
    "### Python Nested if Example"
   ]
  },
  {
   "cell_type": "code",
   "execution_count": 11,
   "id": "c02487e9",
   "metadata": {},
   "outputs": [
    {
     "name": "stdout",
     "output_type": "stream",
     "text": [
      "Enter a number: 0.002\n",
      "Positive number\n"
     ]
    }
   ],
   "source": [
    "'''In this program, we input a number\n",
    "check if the number is positive or\n",
    "negative or zero and display\n",
    "an appropriate message\n",
    "This time we use nested if statement''' \n",
    "\n",
    "num = float(input(\"Enter a number: \"))\n",
    "\n",
    "if num >= 0:\n",
    "    if num == 0:\n",
    "        print(\"Zero\")\n",
    "    else:\n",
    "        print(\"Positive number\")\n",
    "else:\n",
    "    print(\"Negative number\")"
   ]
  },
  {
   "cell_type": "code",
   "execution_count": null,
   "id": "d9c1b668",
   "metadata": {},
   "outputs": [],
   "source": []
  }
 ],
 "metadata": {
  "kernelspec": {
   "display_name": "Python 3",
   "language": "python",
   "name": "python3"
  },
  "language_info": {
   "codemirror_mode": {
    "name": "ipython",
    "version": 3
   },
   "file_extension": ".py",
   "mimetype": "text/x-python",
   "name": "python",
   "nbconvert_exporter": "python",
   "pygments_lexer": "ipython3",
   "version": "3.8.3"
  }
 },
 "nbformat": 4,
 "nbformat_minor": 5
}
