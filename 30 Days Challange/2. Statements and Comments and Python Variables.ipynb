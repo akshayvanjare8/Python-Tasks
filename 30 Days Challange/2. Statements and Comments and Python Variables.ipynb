{
 "cells": [
  {
   "cell_type": "markdown",
   "id": "faeeb7fe",
   "metadata": {},
   "source": [
    "### Created By : Akshay Nivrutti Vanjare"
   ]
  },
  {
   "cell_type": "markdown",
   "id": "9bf97bcc",
   "metadata": {},
   "source": [
    "# 1. Python Statement, Indentation and Comments"
   ]
  },
  {
   "cell_type": "markdown",
   "id": "6be34fd3",
   "metadata": {},
   "source": [
    "In this tutorial, we will learn about Python statements, why indentation is important and use of comments in programming."
   ]
  },
  {
   "cell_type": "markdown",
   "id": "afeddfd8",
   "metadata": {},
   "source": [
    "## 1.1 Python Statement"
   ]
  },
  {
   "cell_type": "markdown",
   "id": "f944405d",
   "metadata": {},
   "source": [
    "Instructions that a Python interpreter can execute are called **statements**. For example, **a = 1** is an assignment statement. **if** statement, **for** statement, **while** statement, etc. are other kinds of statements which will be discussed later."
   ]
  },
  {
   "cell_type": "markdown",
   "id": "7ae676b7",
   "metadata": {},
   "source": [
    "### 1.1.1 Multi-line statement \n",
    "\n",
    "In Python, the end of a statement is marked by a newline character. But we can make a statement extend over multiple lines with the line continuation character (\\). For example:"
   ]
  },
  {
   "cell_type": "code",
   "execution_count": 1,
   "id": "1c147f91",
   "metadata": {},
   "outputs": [],
   "source": [
    "a = 1 + 2 + 3 + \\\n",
    "    4 + 5 + 6 + \\\n",
    "    7 + 8 + 9"
   ]
  },
  {
   "cell_type": "code",
   "execution_count": 2,
   "id": "d10225e8",
   "metadata": {},
   "outputs": [
    {
     "data": {
      "text/plain": [
       "45"
      ]
     },
     "execution_count": 2,
     "metadata": {},
     "output_type": "execute_result"
    }
   ],
   "source": [
    "a"
   ]
  },
  {
   "cell_type": "markdown",
   "id": "d88a2b67",
   "metadata": {},
   "source": [
    "This is an explicit line continuation. In Python, line continuation is implied inside **parentheses ( )**, **brackets [ ]**, and **braces { }**. For instance, we can implement the above multi-line statement as:"
   ]
  },
  {
   "cell_type": "code",
   "execution_count": 3,
   "id": "91437541",
   "metadata": {},
   "outputs": [],
   "source": [
    "a = (1 + 2 + 3 +\n",
    "    4 + 5 + 6 +\n",
    "    7 + 8 + 9)"
   ]
  },
  {
   "cell_type": "code",
   "execution_count": 4,
   "id": "8a0b2c9c",
   "metadata": {},
   "outputs": [
    {
     "data": {
      "text/plain": [
       "45"
      ]
     },
     "execution_count": 4,
     "metadata": {},
     "output_type": "execute_result"
    }
   ],
   "source": [
    "a"
   ]
  },
  {
   "cell_type": "markdown",
   "id": "91447540",
   "metadata": {},
   "source": [
    "Here, the surrounding parentheses **( )** do the line continuation implicitly. Same is the case with **[ ]** and **{ }**. For example:"
   ]
  },
  {
   "cell_type": "code",
   "execution_count": 5,
   "id": "01467006",
   "metadata": {},
   "outputs": [],
   "source": [
    "colors = ['red',\n",
    "          'blue',\n",
    "          'green']"
   ]
  },
  {
   "cell_type": "markdown",
   "id": "d3dfb18d",
   "metadata": {},
   "source": [
    "We can also put multiple statements in a single line using semicolons, as follows:"
   ]
  },
  {
   "cell_type": "code",
   "execution_count": null,
   "id": "55db3f68",
   "metadata": {},
   "outputs": [],
   "source": [
    "a = 1; b = 5; c = 10"
   ]
  },
  {
   "cell_type": "markdown",
   "id": "198ea7af",
   "metadata": {},
   "source": [
    "## 1.2 Python Indentation \n",
    "\n",
    "Most of the programming languages like C, C++, and Java use braces **{ }** to define a block of code. Python, however, uses indentation.\n",
    "\n",
    "A code block (body of a function, loop, etc.) starts with indentation and ends with the first unindented line. The amount of indentation is up to you, but it must be consistent throughout that block.\n",
    "\n",
    "Generally, four whitespaces are used for indentation and are preferred over tabs. Here is an example."
   ]
  },
  {
   "cell_type": "code",
   "execution_count": 6,
   "id": "d1ef4228",
   "metadata": {},
   "outputs": [
    {
     "name": "stdout",
     "output_type": "stream",
     "text": [
      "1\n",
      "2\n",
      "3\n",
      "4\n",
      "5\n"
     ]
    }
   ],
   "source": [
    "for i in range(1,11):\n",
    "    print(i)\n",
    "    if i == 5:\n",
    "        break"
   ]
  },
  {
   "cell_type": "markdown",
   "id": "a587299a",
   "metadata": {},
   "source": [
    "The enforcement of indentation in Python makes the code look neat and clean. This results in Python programs that look similar and consistent.\n",
    "\n",
    "Indentation can be ignored in line continuation, but it's always a good idea to indent. It makes the code more readable. For example:"
   ]
  },
  {
   "cell_type": "code",
   "execution_count": 7,
   "id": "ecc37f57",
   "metadata": {},
   "outputs": [
    {
     "name": "stdout",
     "output_type": "stream",
     "text": [
      "Hello\n",
      "Hello\n"
     ]
    }
   ],
   "source": [
    "if True:\n",
    "    print('Hello')\n",
    "    a = 5\n",
    "    \n",
    "    \n",
    "## and \n",
    "\n",
    "\n",
    "if True: print('Hello'); a = 5"
   ]
  },
  {
   "cell_type": "markdown",
   "id": "8def3da9",
   "metadata": {},
   "source": [
    "## 1.3 Python Comments \n",
    "\n",
    "Comments are very important while writing a program. They describe what is going on inside a program, so that a person looking at the source code does not have a hard time figuring it out.\n",
    "\n",
    "You might forget the key details of the program you just wrote in a month's time. So taking the time to explain these concepts in the form of comments is always fruitful.\n",
    "\n",
    "In Python, we use the hash (**#**) symbol to start writing a comment. \n",
    "\n",
    "It extends up to the newline character. Comments are for programmers to better understand a program. Python Interpreter ignores comments."
   ]
  },
  {
   "cell_type": "code",
   "execution_count": 8,
   "id": "7aa7d335",
   "metadata": {},
   "outputs": [
    {
     "name": "stdout",
     "output_type": "stream",
     "text": [
      "Hello\n"
     ]
    }
   ],
   "source": [
    "#This is a comment\n",
    "#print out Hello\n",
    "print('Hello')"
   ]
  },
  {
   "cell_type": "markdown",
   "id": "eb2a5221",
   "metadata": {},
   "source": [
    "### 1.3.1 Multi-line comments \n",
    "\n",
    "We can have comments that extend up to multiple lines. One way is to use the hash(#) symbol at the beginning of each line. For example:"
   ]
  },
  {
   "cell_type": "code",
   "execution_count": 9,
   "id": "51f55d7a",
   "metadata": {},
   "outputs": [],
   "source": [
    "#This is a long comment\n",
    "#and it extends\n",
    "#to multiple lines"
   ]
  },
  {
   "cell_type": "markdown",
   "id": "95e946f1",
   "metadata": {},
   "source": [
    "Another way of doing this is to use triple quotes, either **' ' '** or **\" \" \"**.\n",
    "These triple quotes are generally used for multi-line strings. But they can be used as a multi-line comment as well. Unless they are not docstrings, they do not generate any extra code."
   ]
  },
  {
   "cell_type": "code",
   "execution_count": 10,
   "id": "bd50c698",
   "metadata": {},
   "outputs": [
    {
     "data": {
      "text/plain": [
       "'This is also a\\nperfect example of\\nmulti-line comments'"
      ]
     },
     "execution_count": 10,
     "metadata": {},
     "output_type": "execute_result"
    }
   ],
   "source": [
    "\"\"\"This is also a\n",
    "perfect example of\n",
    "multi-line comments\"\"\""
   ]
  },
  {
   "cell_type": "markdown",
   "id": "b329335f",
   "metadata": {},
   "source": [
    "### 1.3.2 Docstrings in Python \n",
    "\n",
    "A docstring is short for documentation string.\n",
    "\n",
    "Python docstrings (documentation strings) are the string literals that appear right after the definition of a function, method, class, or module.\n",
    "\n",
    "Triple quotes are used while writing docstrings. For example:"
   ]
  },
  {
   "cell_type": "code",
   "execution_count": 11,
   "id": "34663acd",
   "metadata": {},
   "outputs": [],
   "source": [
    "def double(num):\n",
    "    \"\"\"Function to double the value\"\"\"\n",
    "    return 2*num"
   ]
  },
  {
   "cell_type": "code",
   "execution_count": 12,
   "id": "2858d584",
   "metadata": {},
   "outputs": [
    {
     "data": {
      "text/plain": [
       "6"
      ]
     },
     "execution_count": 12,
     "metadata": {},
     "output_type": "execute_result"
    }
   ],
   "source": [
    "double(3) "
   ]
  },
  {
   "cell_type": "markdown",
   "id": "e2c670a1",
   "metadata": {},
   "source": [
    "Docstrings appear right after the definition of a function, class, or a module. This separates docstrings from multiline comments using triple quotes.\n",
    "\n",
    "The docstrings are associated with the object as their **__doc__** attribute.\n",
    "\n",
    "So, we can access the docstrings of the above function with the following lines of code:"
   ]
  },
  {
   "cell_type": "code",
   "execution_count": 13,
   "id": "97ab3112",
   "metadata": {},
   "outputs": [
    {
     "name": "stdout",
     "output_type": "stream",
     "text": [
      "Function to double the value\n"
     ]
    }
   ],
   "source": [
    "def double(num):\n",
    "    \"\"\"Function to double the value\"\"\"\n",
    "    return 2*num\n",
    "print(double.__doc__)"
   ]
  },
  {
   "cell_type": "markdown",
   "id": "317e9cfb",
   "metadata": {},
   "source": [
    "# 2. Python Variables, Constants and Literals"
   ]
  },
  {
   "cell_type": "markdown",
   "id": "01d54e1d",
   "metadata": {},
   "source": [
    "## 2.1 Python Variables \n",
    "\n",
    "A variable is a named location used to store data in the memory. It is helpful to think of variables as a container that holds data that can be changed later in the program. For example,"
   ]
  },
  {
   "cell_type": "code",
   "execution_count": 14,
   "id": "c6063433",
   "metadata": {},
   "outputs": [],
   "source": [
    "number = 10"
   ]
  },
  {
   "cell_type": "markdown",
   "id": "90f7903b",
   "metadata": {},
   "source": [
    "Here, we have created a variable named **number**. We have assigned the value **10** to the variable.\n",
    "\n",
    "You can think of variables as a bag to store books in it and that book can be replaced at any time."
   ]
  },
  {
   "cell_type": "code",
   "execution_count": 15,
   "id": "7852ac5e",
   "metadata": {},
   "outputs": [],
   "source": [
    "number = 10 \n",
    "\n",
    "number = 1.1 "
   ]
  },
  {
   "cell_type": "markdown",
   "id": "5716d5d5",
   "metadata": {},
   "source": [
    "Initially, the value of number was 10. Later, it was changed to 1.1."
   ]
  },
  {
   "cell_type": "markdown",
   "id": "e2ad9283",
   "metadata": {},
   "source": [
    "### 2.1.1 Assigning values to Variables in Python \n",
    "\n",
    "As you can see from the above example, you can use the assignment operator = to assign a value to a variable.\n",
    "\n",
    "#### Example 1: Declaring and assigning value to a variable"
   ]
  },
  {
   "cell_type": "code",
   "execution_count": 16,
   "id": "d789eaf2",
   "metadata": {},
   "outputs": [
    {
     "name": "stdout",
     "output_type": "stream",
     "text": [
      "apple.com\n"
     ]
    }
   ],
   "source": [
    "website = \"apple.com\"\n",
    "print(website)"
   ]
  },
  {
   "cell_type": "markdown",
   "id": "cf6e312b",
   "metadata": {},
   "source": [
    "In the above program, we assigned a value **apple.com** to the variable **website**. Then, we printed out the value assigned to **website** i.e. **apple.com**"
   ]
  },
  {
   "cell_type": "markdown",
   "id": "a4bc9e49",
   "metadata": {},
   "source": [
    "#### Example 2: Changing the value of a variable"
   ]
  },
  {
   "cell_type": "code",
   "execution_count": 17,
   "id": "2df2ba36",
   "metadata": {},
   "outputs": [
    {
     "name": "stdout",
     "output_type": "stream",
     "text": [
      "apple.com\n",
      "programiz.com\n"
     ]
    }
   ],
   "source": [
    "website = \"apple.com\"\n",
    "print(website)\n",
    "\n",
    "# assigning a new value to website\n",
    "website = \"programiz.com\"\n",
    "print(website)"
   ]
  },
  {
   "cell_type": "markdown",
   "id": "8b713847",
   "metadata": {},
   "source": [
    "#### Example 3: Assigning multiple values to multiple variables"
   ]
  },
  {
   "cell_type": "code",
   "execution_count": 18,
   "id": "7f01c62c",
   "metadata": {},
   "outputs": [
    {
     "name": "stdout",
     "output_type": "stream",
     "text": [
      "5\n",
      "3.2\n",
      "Hello\n"
     ]
    }
   ],
   "source": [
    "a, b, c = 5, 3.2, \"Hello\"\n",
    "\n",
    "print (a)\n",
    "print (b)\n",
    "print (c)"
   ]
  },
  {
   "cell_type": "markdown",
   "id": "00f3c0b5",
   "metadata": {},
   "source": [
    "If we want to assign the same value to multiple variables at once, we can do this as:"
   ]
  },
  {
   "cell_type": "code",
   "execution_count": 20,
   "id": "6c010c1b",
   "metadata": {},
   "outputs": [
    {
     "name": "stdout",
     "output_type": "stream",
     "text": [
      "Hello\n",
      "Hello\n",
      "Hello\n"
     ]
    }
   ],
   "source": [
    "a = b = c = \"Hello\"\n",
    "\n",
    "print (a)\n",
    "print (b)\n",
    "print (c)"
   ]
  },
  {
   "cell_type": "markdown",
   "id": "577a838b",
   "metadata": {},
   "source": [
    "## 2.2 Constants \n",
    "\n",
    "A constant is a type of variable whose value cannot be changed. It is helpful to think of constants as containers that hold information which cannot be changed later.\n",
    "\n",
    "You can think of constants as a bag to store some books which cannot be replaced once placed inside the bag."
   ]
  },
  {
   "cell_type": "markdown",
   "id": "091c0506",
   "metadata": {},
   "source": [
    "#### Example 3: Declaring and assigning value to a constant\n",
    "Create a constant.py:"
   ]
  },
  {
   "cell_type": "code",
   "execution_count": null,
   "id": "458add42",
   "metadata": {},
   "outputs": [],
   "source": [
    "PI = 3.14\n",
    "GRAVITY = 9.8"
   ]
  },
  {
   "cell_type": "markdown",
   "id": "6a67692b",
   "metadata": {},
   "source": [
    "Create a main.py:"
   ]
  },
  {
   "cell_type": "code",
   "execution_count": null,
   "id": "51d9b83f",
   "metadata": {},
   "outputs": [],
   "source": [
    "import constant \n",
    "\n",
    "print(constant.PI)\n",
    "print(constant.GRAVITY)"
   ]
  },
  {
   "cell_type": "markdown",
   "id": "f45b97da",
   "metadata": {},
   "source": [
    "# Rules and Naming Convention for Variables and constants"
   ]
  },
  {
   "cell_type": "markdown",
   "id": "8c8b31f0",
   "metadata": {},
   "source": [
    "* Constant and variable names should have a combination of letters in lowercase (a to z) or uppercase (A to Z) or digits (0 to 9) or an underscore (_). For example:"
   ]
  },
  {
   "cell_type": "code",
   "execution_count": null,
   "id": "a4a1074b",
   "metadata": {},
   "outputs": [],
   "source": [
    "snake_case\n",
    "\n",
    "MACRO_CASE\n",
    "\n",
    "camelCase \n",
    "\n",
    "CapWords"
   ]
  },
  {
   "cell_type": "markdown",
   "id": "d41d19df",
   "metadata": {},
   "source": [
    "* Create a name that makes sense. For example, **vowel** makes more sense than **v**."
   ]
  },
  {
   "cell_type": "markdown",
   "id": "c2c580a2",
   "metadata": {},
   "source": [
    "* If you want to create a variable name having two words, use underscore to separate them. For example:"
   ]
  },
  {
   "cell_type": "code",
   "execution_count": null,
   "id": "03d1f91e",
   "metadata": {},
   "outputs": [],
   "source": [
    "my_name \n",
    "\n",
    "my_sallary"
   ]
  },
  {
   "cell_type": "markdown",
   "id": "1e9bb797",
   "metadata": {},
   "source": [
    "* Use capital letters possible to declare a constant. For example:"
   ]
  },
  {
   "cell_type": "code",
   "execution_count": null,
   "id": "7fb4bcac",
   "metadata": {},
   "outputs": [],
   "source": [
    "PI \n",
    "\n",
    "G \n",
    "\n",
    "MASS \n",
    "\n",
    "SPEED_OF_LIGHT \n",
    "\n",
    "TEMP"
   ]
  },
  {
   "cell_type": "markdown",
   "id": "c4202ad6",
   "metadata": {},
   "source": [
    "* Never use special symbols like !, @, #, $, %, etc. \n",
    "\n",
    "* Don't start a variable name with a digit."
   ]
  },
  {
   "cell_type": "markdown",
   "id": "537c78ff",
   "metadata": {},
   "source": [
    "## 2.3 Numeric Literals \n",
    "\n",
    "Numeric Literals are immutable (unchangeable). Numeric literals can belong to 3 different numerical types: **Integer**, **Float**, and **Complex**."
   ]
  },
  {
   "cell_type": "markdown",
   "id": "578b9c5a",
   "metadata": {},
   "source": [
    "#### How to use Numeric literals in Python?"
   ]
  },
  {
   "cell_type": "code",
   "execution_count": 21,
   "id": "86b1f1c5",
   "metadata": {},
   "outputs": [
    {
     "name": "stdout",
     "output_type": "stream",
     "text": [
      "10 100 200 300\n",
      "10.5 150.0\n",
      "3.14j 3.14 0.0\n"
     ]
    }
   ],
   "source": [
    "a = 0b1010 #Binary Literals\n",
    "b = 100 #Decimal Literal \n",
    "c = 0o310 #Octal Literal\n",
    "d = 0x12c #Hexadecimal Literal \n",
    "\n",
    "#Float Literal\n",
    "float_1 = 10.5 \n",
    "float_2 = 1.5e2 \n",
    "\n",
    "#Complex Literal \n",
    "x = 3.14j \n",
    "\n",
    "print(a, b, c, d)\n",
    "print(float_1, float_2)\n",
    "print(x, x.imag, x.real)"
   ]
  },
  {
   "cell_type": "markdown",
   "id": "231b4f11",
   "metadata": {},
   "source": [
    "In the above program, \n",
    "\n",
    "* We assigned integer literals into different variables. Here, a is binary literal, b is a decimal literal, c is an octal literal and d is a hexadecimal literal.\n",
    "\n",
    "* When we print the variables, all the literals are converted into decimal values.\n",
    "\n",
    "* 10.5 and 1.5e2 are floating-point literals. 1.5e2 is expressed with exponential and is equivalent to 1.5 * 102.\n",
    "\n",
    "* We assigned a complex literal i.e 3.14j in variable x. Then we use imaginary literal (x.imag) and real literal (x.real) to create imaginary and real parts of complex numbers."
   ]
  },
  {
   "cell_type": "markdown",
   "id": "3c4e1409",
   "metadata": {},
   "source": [
    "### 2.3.1 String literals \n",
    "\n",
    "A string literal is a sequence of characters surrounded by quotes. We can use both single, double, or triple quotes for a string. And, a character literal is a single character surrounded by single or double quotes."
   ]
  },
  {
   "cell_type": "markdown",
   "id": "fb874399",
   "metadata": {},
   "source": [
    "#### How to use string literals in Python?"
   ]
  },
  {
   "cell_type": "code",
   "execution_count": 22,
   "id": "ff9ce5ff",
   "metadata": {},
   "outputs": [
    {
     "name": "stdout",
     "output_type": "stream",
     "text": [
      "This is Python\n",
      "C\n",
      "This is a multiline string with more than one line code.\n",
      "Ünicöde\n",
      "raw \\n string\n"
     ]
    }
   ],
   "source": [
    "strings = \"This is Python\" \n",
    "\n",
    "char = \"C\" \n",
    "\n",
    "multiline_str = \"\"\"This is a multiline string with more than one line code.\"\"\"\n",
    "\n",
    "unicode = u\"\\u00dcnic\\u00f6de\" \n",
    "\n",
    "raw_str = r\"raw \\n string\" \n",
    "\n",
    "\n",
    "print(strings)\n",
    "print(char)\n",
    "print(multiline_str)\n",
    "print(unicode)\n",
    "print(raw_str)"
   ]
  },
  {
   "cell_type": "markdown",
   "id": "59b05361",
   "metadata": {},
   "source": [
    "In the above program, This is Python is a string literal and C is a character literal.\n",
    "\n",
    "The value in triple-quotes \"\"\" assigned to the multiline_str is a multi-line string literal.\n",
    "\n",
    "The string u\"\\u00dcnic\\u00f6de\" is a Unicode literal which supports characters other than English. In this case, \\u00dc represents Ü and \\u00f6 represents ö.\n",
    "\n",
    "r\"raw \\n string\" is a raw string literal."
   ]
  },
  {
   "cell_type": "markdown",
   "id": "d2e6ab57",
   "metadata": {},
   "source": [
    "### 2.3.2 Boolean literals"
   ]
  },
  {
   "cell_type": "code",
   "execution_count": 23,
   "id": "5c3e08aa",
   "metadata": {},
   "outputs": [
    {
     "name": "stdout",
     "output_type": "stream",
     "text": [
      "x is True\n",
      "y is False\n",
      "a: 5\n",
      "b: 10\n"
     ]
    }
   ],
   "source": [
    "x = (1 == True)\n",
    "y = (1 == False)\n",
    "a = True + 4\n",
    "b = False + 10 \n",
    "\n",
    "print(\"x is\", x)\n",
    "print(\"y is\", y)\n",
    "print(\"a:\", a)\n",
    "print(\"b:\", b)"
   ]
  },
  {
   "cell_type": "markdown",
   "id": "feaf87e7",
   "metadata": {},
   "source": [
    "### 2.3.3 Special literals"
   ]
  },
  {
   "cell_type": "code",
   "execution_count": 24,
   "id": "a127dea1",
   "metadata": {},
   "outputs": [
    {
     "name": "stdout",
     "output_type": "stream",
     "text": [
      "Available\n",
      "None\n"
     ]
    }
   ],
   "source": [
    "drink = \"Available\"\n",
    "food = None\n",
    "def menu(x):\n",
    "    if x == drink:\n",
    "        print(drink)\n",
    "    else:\n",
    "        print(food)\n",
    "menu(drink)\n",
    "menu(food)"
   ]
  },
  {
   "cell_type": "markdown",
   "id": "8cb4b642",
   "metadata": {},
   "source": [
    "### 2.3.4 Literal Collections"
   ]
  },
  {
   "cell_type": "code",
   "execution_count": 25,
   "id": "25692f26",
   "metadata": {},
   "outputs": [
    {
     "name": "stdout",
     "output_type": "stream",
     "text": [
      "['apple', 'mango', 'orange']\n",
      "(1, 2, 3)\n",
      "{'a': 'apple', 'b': 'ball', 'c': 'cat'}\n",
      "{'i', 'o', 'a', 'e', 'u'}\n"
     ]
    }
   ],
   "source": [
    "fruits = [\"apple\", \"mango\", \"orange\"] #list\n",
    "numbers = (1, 2, 3) #tuple\n",
    "alphabets = {'a':'apple', 'b':'ball', 'c':'cat'} #dictionary\n",
    "vowels = {'a', 'e', 'i' , 'o', 'u'} #set\n",
    "print(fruits)\n",
    "print(numbers)\n",
    "print(alphabets)\n",
    "print(vowels)"
   ]
  }
 ],
 "metadata": {
  "kernelspec": {
   "display_name": "Python 3",
   "language": "python",
   "name": "python3"
  },
  "language_info": {
   "codemirror_mode": {
    "name": "ipython",
    "version": 3
   },
   "file_extension": ".py",
   "mimetype": "text/x-python",
   "name": "python",
   "nbconvert_exporter": "python",
   "pygments_lexer": "ipython3",
   "version": "3.8.3"
  }
 },
 "nbformat": 4,
 "nbformat_minor": 5
}
