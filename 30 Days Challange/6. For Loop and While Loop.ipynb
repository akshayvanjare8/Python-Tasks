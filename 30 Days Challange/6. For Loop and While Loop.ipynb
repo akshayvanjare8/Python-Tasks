{
 "cells": [
  {
   "cell_type": "markdown",
   "id": "3c30a084",
   "metadata": {},
   "source": [
    "### Created by : Akshay Nivrutti Vanjare "
   ]
  },
  {
   "cell_type": "markdown",
   "id": "dafba43e",
   "metadata": {},
   "source": [
    "# 1. For Loop "
   ]
  },
  {
   "cell_type": "markdown",
   "id": "424bccae",
   "metadata": {},
   "source": [
    "## What is for loop in Python? \n",
    "\n",
    "The for loop in Python is used to iterate over a sequence (list, tuple, string) or other iterable objects. Iterating over a sequence is called traversal."
   ]
  },
  {
   "cell_type": "raw",
   "id": "374180cf",
   "metadata": {},
   "source": [
    "Syntax of for Loop \n",
    "\n",
    "for val in sequence:\n",
    "    Body of for"
   ]
  },
  {
   "cell_type": "markdown",
   "id": "3ac942f4",
   "metadata": {},
   "source": [
    "![image info](../Download/forLoop.webp)"
   ]
  },
  {
   "cell_type": "code",
   "execution_count": 1,
   "id": "48eddabe",
   "metadata": {},
   "outputs": [
    {
     "name": "stdout",
     "output_type": "stream",
     "text": [
      "The sum is 48\n"
     ]
    }
   ],
   "source": [
    "# Program to find the sum of all numbers stored in a list\n",
    "\n",
    "# List of numbers\n",
    "numbers = [6, 5, 3, 8, 4, 2, 5, 4, 11]\n",
    "\n",
    "# variable to store the sum\n",
    "sum = 0\n",
    "\n",
    "# iterate over the list\n",
    "for val in numbers:\n",
    "    sum = sum+val\n",
    "\n",
    "print(\"The sum is\", sum)"
   ]
  },
  {
   "cell_type": "markdown",
   "id": "4ec5042d",
   "metadata": {},
   "source": [
    "### The range() function\n",
    "\n",
    "We can generate a sequence of numbers using range() function. range(10) will generate numbers from 0 to 9 (10 numbers).\n",
    "\n",
    "We can also define the start, stop and step size as range(start, stop,step_size). step_size defaults to 1 if not provided.\n",
    "\n",
    "The range object is \"lazy\" in a sense because it doesn't generate every number that it \"contains\" when we create it. However, it is not an iterator since it supports in, len and __getitem__ operations.\n",
    "\n",
    "This function does not store all the values in memory; it would be inefficient.So it remembers the start, stop, step size and generates the next number on the go.\n",
    "\n",
    "To force this function to output all the items, we can use the function list().\n",
    "\n",
    "The following example will clarify this.\n",
    "\n"
   ]
  },
  {
   "cell_type": "code",
   "execution_count": 2,
   "id": "829fd01f",
   "metadata": {},
   "outputs": [
    {
     "name": "stdout",
     "output_type": "stream",
     "text": [
      "range(0, 10)\n",
      "[0, 1, 2, 3, 4, 5, 6, 7, 8, 9]\n",
      "[2, 3, 4, 5, 6, 7]\n",
      "[2, 5, 8, 11, 14, 17]\n"
     ]
    }
   ],
   "source": [
    "print(range(10))\n",
    "\n",
    "print(list(range(10)))\n",
    "\n",
    "print(list(range(2, 8)))\n",
    "\n",
    "print(list(range(2, 20, 3)))"
   ]
  },
  {
   "cell_type": "markdown",
   "id": "2374deca",
   "metadata": {},
   "source": [
    "We can use the range() function in for loops to iterate through a sequence of numbers. It can be combined with the len() function to iterate through a sequence using indexing. Here is an example."
   ]
  },
  {
   "cell_type": "code",
   "execution_count": 3,
   "id": "6d7d0729",
   "metadata": {},
   "outputs": [
    {
     "name": "stdout",
     "output_type": "stream",
     "text": [
      "I like pop\n",
      "I like rock\n",
      "I like jazz\n"
     ]
    }
   ],
   "source": [
    "# Program to iterate through a list using indexing\n",
    "genre = ['pop', 'rock', 'jazz']\n",
    "\n",
    "# iterate over the list using index\n",
    "for i in range(len(genre)):\n",
    "    print(\"I like\", genre[i])"
   ]
  },
  {
   "cell_type": "markdown",
   "id": "f472b148",
   "metadata": {},
   "source": [
    "## for loop with else \n",
    "\n",
    "A for loop can have an optional else block as well. The else part is executed if the items in the sequence used in for loop exhausts.\n",
    "\n",
    "The break keyword can be used to stop a for loop. In such cases, the else part is ignored.\n",
    "\n",
    "Hence, a for loop's else part runs if no break occurs."
   ]
  },
  {
   "cell_type": "code",
   "execution_count": 4,
   "id": "e3d14b03",
   "metadata": {},
   "outputs": [
    {
     "name": "stdout",
     "output_type": "stream",
     "text": [
      "0\n",
      "1\n",
      "5\n",
      "No items left.\n"
     ]
    }
   ],
   "source": [
    "digits = [0, 1, 5]\n",
    "\n",
    "for i in digits:\n",
    "    print(i)\n",
    "else:\n",
    "    print(\"No items left.\")"
   ]
  },
  {
   "cell_type": "markdown",
   "id": "8b2d35df",
   "metadata": {},
   "source": [
    "Here, the for loop prints items of the list until the loop exhausts. When the for loop exhausts, it executes the block of code in the else and prints No items left.\n",
    "\n",
    "This for...else statement can be used with the break keyword to run the else block only when the break keyword was not executed. Let's take an example:"
   ]
  },
  {
   "cell_type": "code",
   "execution_count": 5,
   "id": "433a51d3",
   "metadata": {},
   "outputs": [
    {
     "name": "stdout",
     "output_type": "stream",
     "text": [
      "No entry with that name found.\n"
     ]
    }
   ],
   "source": [
    "# program to display student's marks from record\n",
    "student_name = 'Soyuj'\n",
    "\n",
    "marks = {'James': 90, 'Jules': 55, 'Arthur': 77}\n",
    "\n",
    "for student in marks:\n",
    "    if student == student_name:\n",
    "        print(marks[student])\n",
    "        break\n",
    "else:\n",
    "    print('No entry with that name found.')"
   ]
  },
  {
   "cell_type": "markdown",
   "id": "389f5f61",
   "metadata": {},
   "source": [
    "# 2. While Loop "
   ]
  },
  {
   "cell_type": "markdown",
   "id": "326326fc",
   "metadata": {},
   "source": [
    "## What is while loop in Python?\n",
    "The while loop in Python is used to iterate over a block of code as long as the test expression (condition) is true.\n",
    "\n",
    "We generally use this loop when we don't know the number of times to iterate beforehand."
   ]
  },
  {
   "cell_type": "raw",
   "id": "872f0ac0",
   "metadata": {},
   "source": [
    "## Syntax of while Loop in Python\n",
    "while test_expression:\n",
    "    Body of while"
   ]
  },
  {
   "cell_type": "markdown",
   "id": "a87db1f7",
   "metadata": {},
   "source": [
    "In the while loop, test expression is checked first. The body of the loop is entered only if the test_expression evaluates to True. After one iteration, the test expression is checked again. This process continues until the test_expression evaluates to False. \n",
    "\n",
    "In Python, the body of the while loop is determined through indentation.\n",
    "\n",
    "The body starts with indentation and the first unindented line marks the end.\n",
    "\n",
    "Python interprets any non-zero value as True. None and 0 are interpreted as False."
   ]
  },
  {
   "cell_type": "markdown",
   "id": "64d0a012",
   "metadata": {},
   "source": [
    "![image info](../Download/whileLoopFlowchart.webp)"
   ]
  },
  {
   "cell_type": "code",
   "execution_count": 6,
   "id": "54b91a3a",
   "metadata": {},
   "outputs": [
    {
     "name": "stdout",
     "output_type": "stream",
     "text": [
      "The sum is 55\n"
     ]
    }
   ],
   "source": [
    "# Program to add natural\n",
    "# numbers up to \n",
    "# sum = 1+2+3+...+n\n",
    "# To take input from the user,\n",
    "# n = int(input(\"Enter n: \"))\n",
    "\n",
    "n = 10\n",
    "\n",
    "# initialize sum and counter\n",
    "sum = 0\n",
    "\n",
    "i = 1\n",
    "while i <= n:\n",
    "    sum = sum + i\n",
    "    i = i+1    # update counter \n",
    "    \n",
    "# print the sum\n",
    "print(\"The sum is\", sum)"
   ]
  },
  {
   "cell_type": "markdown",
   "id": "6c2fcd29",
   "metadata": {},
   "source": [
    "In the above program, the test expression will be True as long as our counter variable i is less than or equal to n (10 in our program).\n",
    "We need to increase the value of the counter variable in the body of the loop. This is very important (and mostly forgotten). Failing to do so will result in an infinite loop (never-ending loop).\n",
    "Finally, the result is displayed."
   ]
  },
  {
   "cell_type": "markdown",
   "id": "93755021",
   "metadata": {},
   "source": [
    "## While loop with else\n",
    "\n",
    "Same as with for loops, while loops can also have an optional else block.\n",
    "\n",
    "The else part is executed if the condition in the while loop evaluates to False.\n",
    "\n",
    "The while loop can be terminated with a break statement. In such cases, the else part is ignored. Hence, a while loop's else part runs if no break occurs and the condition is false.\n",
    "\n",
    "Here is an example to illustrate this."
   ]
  },
  {
   "cell_type": "code",
   "execution_count": 7,
   "id": "56a66a92",
   "metadata": {},
   "outputs": [
    {
     "name": "stdout",
     "output_type": "stream",
     "text": [
      "Inside loop\n",
      "Inside loop\n",
      "Inside loop\n",
      "Inside else\n"
     ]
    }
   ],
   "source": [
    "'''Example to illustrate\n",
    "the use of else statement\n",
    "with the while loop''' \n",
    "\n",
    "counter = 0\n",
    "\n",
    "while counter < 3:\n",
    "    print(\"Inside loop\")\n",
    "    counter = counter + 1\n",
    "else:\n",
    "    print(\"Inside else\")"
   ]
  },
  {
   "cell_type": "markdown",
   "id": "60a7cea5",
   "metadata": {},
   "source": [
    "Here, we use a counter variable to print the string Inside loop three times.\n",
    "\n",
    "On the fourth iteration, the condition in while becomes False. Hence, the else part is executed."
   ]
  }
 ],
 "metadata": {
  "kernelspec": {
   "display_name": "Python 3",
   "language": "python",
   "name": "python3"
  },
  "language_info": {
   "codemirror_mode": {
    "name": "ipython",
    "version": 3
   },
   "file_extension": ".py",
   "mimetype": "text/x-python",
   "name": "python",
   "nbconvert_exporter": "python",
   "pygments_lexer": "ipython3",
   "version": "3.8.3"
  }
 },
 "nbformat": 4,
 "nbformat_minor": 5
}
