{
 "cells": [
  {
   "cell_type": "code",
   "execution_count": 1,
   "id": "9ebf3674",
   "metadata": {},
   "outputs": [],
   "source": [
    "from PyPDF2 import PdfFileReader, PdfFileMerger "
   ]
  },
  {
   "cell_type": "code",
   "execution_count": 2,
   "id": "5a3972d8",
   "metadata": {},
   "outputs": [],
   "source": [
    "# First Read Both PDF Files \n",
    "\n",
    "pdf_file1 = PdfFileReader(\"../Semester First.pdf\")\n",
    "pdf_file2 = PdfFileReader(\"../Semester Second.pdf\")"
   ]
  },
  {
   "cell_type": "code",
   "execution_count": 3,
   "id": "9f7d248f",
   "metadata": {},
   "outputs": [],
   "source": [
    "# Create a PDF File Merger object \n",
    "\n",
    "output = PdfFileMerger() "
   ]
  },
  {
   "cell_type": "code",
   "execution_count": 4,
   "id": "d9267b9b",
   "metadata": {},
   "outputs": [],
   "source": [
    "# Append both the PDF Reader Object in to it. \n",
    "\n",
    "output.append(pdf_file1)\n",
    "output.append(pdf_file2) "
   ]
  },
  {
   "cell_type": "code",
   "execution_count": 5,
   "id": "c219bf70",
   "metadata": {},
   "outputs": [],
   "source": [
    "# Save the Merge PDF \n",
    "\n",
    "output.write(\"Merged.pdf\")"
   ]
  }
 ],
 "metadata": {
  "kernelspec": {
   "display_name": "Python 3",
   "language": "python",
   "name": "python3"
  },
  "language_info": {
   "codemirror_mode": {
    "name": "ipython",
    "version": 3
   },
   "file_extension": ".py",
   "mimetype": "text/x-python",
   "name": "python",
   "nbconvert_exporter": "python",
   "pygments_lexer": "ipython3",
   "version": "3.8.3"
  }
 },
 "nbformat": 4,
 "nbformat_minor": 5
}
