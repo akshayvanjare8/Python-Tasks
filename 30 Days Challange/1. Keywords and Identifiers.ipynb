{
 "cells": [
  {
   "cell_type": "markdown",
   "id": "71297c18",
   "metadata": {},
   "source": [
    "### Created By : Akshay Nivrutti Vanjare"
   ]
  },
  {
   "cell_type": "markdown",
   "id": "5f284e8c",
   "metadata": {},
   "source": [
    "We will learn about keywords (reserved words in Python) and identifiers (names given to variables, functions, etc.)."
   ]
  },
  {
   "cell_type": "markdown",
   "id": "5d8b6849",
   "metadata": {},
   "source": [
    "# 1 Python Keywords"
   ]
  },
  {
   "cell_type": "markdown",
   "id": "8fecaa6b",
   "metadata": {},
   "source": [
    "Keywords are the reserved words in Python."
   ]
  },
  {
   "cell_type": "markdown",
   "id": "c567136b",
   "metadata": {},
   "source": [
    "We cannot use a keyword as a variable name, function name or any other identifier. They are used to define the syntax and structure of the Python language."
   ]
  },
  {
   "cell_type": "markdown",
   "id": "f4220dc7",
   "metadata": {},
   "source": [
    "In Python, keywords are case sensitive.\n",
    "There are 35 keywords in Python 3.7. This number can vary slightly over the course of time."
   ]
  },
  {
   "cell_type": "markdown",
   "id": "b8f10d69",
   "metadata": {},
   "source": [
    "All the keywords except **True**, **False** and **None** are in lowercase and they must be written as they are. The list of all the keywords is given below:"
   ]
  },
  {
   "cell_type": "code",
   "execution_count": null,
   "id": "6755124f",
   "metadata": {},
   "outputs": [],
   "source": [
    "False,  await,    else,    import,   pass,\n",
    "None,   break,    except,  in,       raise,\n",
    "True,   class,    finally, is,       return,\n",
    "and,    continue, for,     lambda,   try,\n",
    "as,     def,      from,    nonlocal, while,\n",
    "assert, del,      global,  not,      with,\n",
    "async,  elif,     if,      or,       yield."
   ]
  },
  {
   "cell_type": "code",
   "execution_count": 2,
   "id": "ee17568e",
   "metadata": {},
   "outputs": [
    {
     "name": "stdout",
     "output_type": "stream",
     "text": [
      "['False', 'None', 'True', 'and', 'as', 'assert', 'async', 'await', 'break', 'class', 'continue', 'def', 'del', 'elif', 'else', 'except', 'finally', 'for', 'from', 'global', 'if', 'import', 'in', 'is', 'lambda', 'nonlocal', 'not', 'or', 'pass', 'raise', 'return', 'try', 'while', 'with', 'yield']\n"
     ]
    }
   ],
   "source": [
    "import keyword\n",
    "print(keyword.kwlist)"
   ]
  },
  {
   "cell_type": "markdown",
   "id": "0db97a82",
   "metadata": {},
   "source": [
    "## 1.1 Description of Keywords and Examples"
   ]
  },
  {
   "cell_type": "markdown",
   "id": "ac17e55c",
   "metadata": {},
   "source": [
    "### 1.1.1 True/False"
   ]
  },
  {
   "cell_type": "markdown",
   "id": "3f411257",
   "metadata": {},
   "source": [
    "**True** and **False** are truth values in Python. They are the results of comparison operations or logical (Boolean) operations in Python. For example:"
   ]
  },
  {
   "cell_type": "code",
   "execution_count": 1,
   "id": "80fe2754",
   "metadata": {},
   "outputs": [
    {
     "data": {
      "text/plain": [
       "True"
      ]
     },
     "execution_count": 1,
     "metadata": {},
     "output_type": "execute_result"
    }
   ],
   "source": [
    "1 == 1"
   ]
  },
  {
   "cell_type": "code",
   "execution_count": 2,
   "id": "b4eb66ca",
   "metadata": {},
   "outputs": [
    {
     "data": {
      "text/plain": [
       "True"
      ]
     },
     "execution_count": 2,
     "metadata": {},
     "output_type": "execute_result"
    }
   ],
   "source": [
    "5 > 3"
   ]
  },
  {
   "cell_type": "code",
   "execution_count": 4,
   "id": "dfcb858d",
   "metadata": {},
   "outputs": [
    {
     "data": {
      "text/plain": [
       "True"
      ]
     },
     "execution_count": 4,
     "metadata": {},
     "output_type": "execute_result"
    }
   ],
   "source": [
    "True or False"
   ]
  },
  {
   "cell_type": "code",
   "execution_count": 5,
   "id": "693944bb",
   "metadata": {},
   "outputs": [
    {
     "data": {
      "text/plain": [
       "False"
      ]
     },
     "execution_count": 5,
     "metadata": {},
     "output_type": "execute_result"
    }
   ],
   "source": [
    "10 <= 1"
   ]
  },
  {
   "cell_type": "code",
   "execution_count": 6,
   "id": "a7f71bcf",
   "metadata": {},
   "outputs": [
    {
     "data": {
      "text/plain": [
       "False"
      ]
     },
     "execution_count": 6,
     "metadata": {},
     "output_type": "execute_result"
    }
   ],
   "source": [
    "True and False"
   ]
  },
  {
   "cell_type": "markdown",
   "id": "43950279",
   "metadata": {},
   "source": [
    "Here we can see that the first three statements are true so the interpreter returns **True** and returns **False** for the remaining three statements. "
   ]
  },
  {
   "cell_type": "markdown",
   "id": "d7c0495f",
   "metadata": {},
   "source": [
    "**True** and **False** in python is same as **1** and **0**. This can be justified with the following example:"
   ]
  },
  {
   "cell_type": "code",
   "execution_count": 7,
   "id": "8d4e37ff",
   "metadata": {},
   "outputs": [
    {
     "data": {
      "text/plain": [
       "True"
      ]
     },
     "execution_count": 7,
     "metadata": {},
     "output_type": "execute_result"
    }
   ],
   "source": [
    "True == 1"
   ]
  },
  {
   "cell_type": "code",
   "execution_count": 8,
   "id": "8cf7653a",
   "metadata": {},
   "outputs": [
    {
     "data": {
      "text/plain": [
       "True"
      ]
     },
     "execution_count": 8,
     "metadata": {},
     "output_type": "execute_result"
    }
   ],
   "source": [
    "False == 0"
   ]
  },
  {
   "cell_type": "code",
   "execution_count": 10,
   "id": "6a2d9e2b",
   "metadata": {},
   "outputs": [
    {
     "data": {
      "text/plain": [
       "2"
      ]
     },
     "execution_count": 10,
     "metadata": {},
     "output_type": "execute_result"
    }
   ],
   "source": [
    "True + True"
   ]
  },
  {
   "cell_type": "code",
   "execution_count": 12,
   "id": "4afb2d07",
   "metadata": {},
   "outputs": [
    {
     "data": {
      "text/plain": [
       "1"
      ]
     },
     "execution_count": 12,
     "metadata": {},
     "output_type": "execute_result"
    }
   ],
   "source": [
    "True + False"
   ]
  },
  {
   "cell_type": "code",
   "execution_count": 13,
   "id": "ab62a60d",
   "metadata": {},
   "outputs": [
    {
     "data": {
      "text/plain": [
       "-1"
      ]
     },
     "execution_count": 13,
     "metadata": {},
     "output_type": "execute_result"
    }
   ],
   "source": [
    "False - True"
   ]
  },
  {
   "cell_type": "markdown",
   "id": "28d3b555",
   "metadata": {},
   "source": [
    "### 1.1.2 None"
   ]
  },
  {
   "cell_type": "markdown",
   "id": "1336e815",
   "metadata": {},
   "source": [
    "**None** is a special constant in Python that represents the absence of a value or a null value."
   ]
  },
  {
   "cell_type": "markdown",
   "id": "d5f4ff1b",
   "metadata": {},
   "source": [
    "It is an object of its own datatype, the **NoneType**. We cannot create multiple **None** objects but can assign it to variables. These variables will be equal to one another."
   ]
  },
  {
   "cell_type": "markdown",
   "id": "86b6a9e7",
   "metadata": {},
   "source": [
    "We must take special care that **None** does not imply **False**, **0** or any empty **list**, **dictionary**, **string** etc. For example:"
   ]
  },
  {
   "cell_type": "code",
   "execution_count": 14,
   "id": "ca76f245",
   "metadata": {},
   "outputs": [
    {
     "data": {
      "text/plain": [
       "False"
      ]
     },
     "execution_count": 14,
     "metadata": {},
     "output_type": "execute_result"
    }
   ],
   "source": [
    "None == 0"
   ]
  },
  {
   "cell_type": "code",
   "execution_count": 15,
   "id": "cf763468",
   "metadata": {},
   "outputs": [
    {
     "data": {
      "text/plain": [
       "False"
      ]
     },
     "execution_count": 15,
     "metadata": {},
     "output_type": "execute_result"
    }
   ],
   "source": [
    "None == []"
   ]
  },
  {
   "cell_type": "code",
   "execution_count": 16,
   "id": "11900b37",
   "metadata": {},
   "outputs": [
    {
     "data": {
      "text/plain": [
       "False"
      ]
     },
     "execution_count": 16,
     "metadata": {},
     "output_type": "execute_result"
    }
   ],
   "source": [
    "None == False"
   ]
  },
  {
   "cell_type": "code",
   "execution_count": 18,
   "id": "02e6ecc3",
   "metadata": {},
   "outputs": [
    {
     "data": {
      "text/plain": [
       "True"
      ]
     },
     "execution_count": 18,
     "metadata": {},
     "output_type": "execute_result"
    }
   ],
   "source": [
    "x = None \n",
    "y = None \n",
    "\n",
    "x == y"
   ]
  },
  {
   "cell_type": "markdown",
   "id": "7f9345de",
   "metadata": {},
   "source": [
    "**Void functions** that do not return anything will return a **None** object automatically. **None** is also returned by functions in which the program flow does not encounter a return statement. For example:"
   ]
  },
  {
   "cell_type": "code",
   "execution_count": 19,
   "id": "5c3431b3",
   "metadata": {},
   "outputs": [
    {
     "name": "stdout",
     "output_type": "stream",
     "text": [
      "None\n"
     ]
    }
   ],
   "source": [
    "def a_void_function():\n",
    "    a = 1\n",
    "    b = 2\n",
    "    c = a + b \n",
    "    \n",
    "x = a_void_function()\n",
    "print(x)"
   ]
  },
  {
   "cell_type": "markdown",
   "id": "3a3ee48d",
   "metadata": {},
   "source": [
    "This program has a function that does not return a value, although it does some operations inside. So when we print x, we get None which is returned automatically (implicitly)."
   ]
  },
  {
   "cell_type": "markdown",
   "id": "3cd18e8b",
   "metadata": {},
   "source": [
    "Similarly, here another example:"
   ]
  },
  {
   "cell_type": "code",
   "execution_count": 20,
   "id": "e85e60af",
   "metadata": {},
   "outputs": [
    {
     "name": "stdout",
     "output_type": "stream",
     "text": [
      "None\n"
     ]
    }
   ],
   "source": [
    "def improper_return_function(a):\n",
    "    if (a % 2) == 0:\n",
    "        return True \n",
    "    \n",
    "x = improper_return_function(3)\n",
    "print(x)"
   ]
  },
  {
   "cell_type": "markdown",
   "id": "b623c29f",
   "metadata": {},
   "source": [
    "Although this function has a **return** statement, it is not reached in every case. The function will return **True** only when the input is even.\n",
    "If we give the function an odd number, **None** is returned implicitly."
   ]
  },
  {
   "cell_type": "markdown",
   "id": "f4277865",
   "metadata": {},
   "source": [
    "### 1.1.3 and/or/not"
   ]
  },
  {
   "cell_type": "markdown",
   "id": "428b937e",
   "metadata": {},
   "source": [
    "**and**, **or**, **not** are the logical operators in Python. and will result into **True** only if both the operands are True. The truth table for and is given below:"
   ]
  },
  {
   "cell_type": "raw",
   "id": "17190623",
   "metadata": {},
   "source": [
    "         Truth table for and\n",
    "  A                B              A and B \n",
    "True             True              True \n",
    "True             False             False \n",
    "False            True              False \n",
    "False            False             False"
   ]
  },
  {
   "cell_type": "markdown",
   "id": "664e8bfa",
   "metadata": {},
   "source": [
    "**or** will result into **True** if any of the operands is True. The truth table for or is given below:"
   ]
  },
  {
   "cell_type": "raw",
   "id": "df540c70",
   "metadata": {},
   "source": [
    "         Truth table for or\n",
    "  A                B             A or B \n",
    "True             True              True \n",
    "True             False             True \n",
    "False            True              False \n",
    "False            False             False"
   ]
  },
  {
   "cell_type": "markdown",
   "id": "21c83963",
   "metadata": {},
   "source": [
    "**not** operator is used to invert the truth value. The truth table for not is given below:"
   ]
  },
  {
   "cell_type": "raw",
   "id": "e770d5e3",
   "metadata": {},
   "source": [
    "          Truth table for not\n",
    "  A                              not A\n",
    "True                             False \n",
    "False                            True"
   ]
  },
  {
   "cell_type": "markdown",
   "id": "e1485c20",
   "metadata": {},
   "source": [
    "some example of their usage are given below"
   ]
  },
  {
   "cell_type": "code",
   "execution_count": 21,
   "id": "aaf194fc",
   "metadata": {},
   "outputs": [
    {
     "data": {
      "text/plain": [
       "True"
      ]
     },
     "execution_count": 21,
     "metadata": {},
     "output_type": "execute_result"
    }
   ],
   "source": [
    "True and True"
   ]
  },
  {
   "cell_type": "code",
   "execution_count": 22,
   "id": "7a280215",
   "metadata": {},
   "outputs": [
    {
     "data": {
      "text/plain": [
       "False"
      ]
     },
     "execution_count": 22,
     "metadata": {},
     "output_type": "execute_result"
    }
   ],
   "source": [
    "True and False "
   ]
  },
  {
   "cell_type": "code",
   "execution_count": 23,
   "id": "44e25dfb",
   "metadata": {},
   "outputs": [
    {
     "data": {
      "text/plain": [
       "False"
      ]
     },
     "execution_count": 23,
     "metadata": {},
     "output_type": "execute_result"
    }
   ],
   "source": [
    "False and False"
   ]
  },
  {
   "cell_type": "code",
   "execution_count": 24,
   "id": "2c346a48",
   "metadata": {},
   "outputs": [
    {
     "data": {
      "text/plain": [
       "True"
      ]
     },
     "execution_count": 24,
     "metadata": {},
     "output_type": "execute_result"
    }
   ],
   "source": [
    "True or True "
   ]
  },
  {
   "cell_type": "code",
   "execution_count": 25,
   "id": "90e4de28",
   "metadata": {},
   "outputs": [
    {
     "data": {
      "text/plain": [
       "True"
      ]
     },
     "execution_count": 25,
     "metadata": {},
     "output_type": "execute_result"
    }
   ],
   "source": [
    "True or False "
   ]
  },
  {
   "cell_type": "code",
   "execution_count": 26,
   "id": "86039be4",
   "metadata": {},
   "outputs": [
    {
     "data": {
      "text/plain": [
       "False"
      ]
     },
     "execution_count": 26,
     "metadata": {},
     "output_type": "execute_result"
    }
   ],
   "source": [
    "False or False"
   ]
  },
  {
   "cell_type": "code",
   "execution_count": 27,
   "id": "c2549361",
   "metadata": {},
   "outputs": [
    {
     "data": {
      "text/plain": [
       "(True, False)"
      ]
     },
     "execution_count": 27,
     "metadata": {},
     "output_type": "execute_result"
    }
   ],
   "source": [
    "not False , not True "
   ]
  },
  {
   "cell_type": "markdown",
   "id": "c6507bc7",
   "metadata": {},
   "source": [
    "### 1.1.4 as"
   ]
  },
  {
   "cell_type": "markdown",
   "id": "4fc60a3f",
   "metadata": {},
   "source": [
    "**as** is used to create an alias while importing a module. It means giving a different name (user-defined) to a module while importing it."
   ]
  },
  {
   "cell_type": "markdown",
   "id": "ec6941bf",
   "metadata": {},
   "source": [
    "As for example, Python has a standard module called **math**. Suppose we want to calculate what cosine pi is using an alias. We can do it as follows using **as**:"
   ]
  },
  {
   "cell_type": "code",
   "execution_count": 28,
   "id": "ae2654eb",
   "metadata": {},
   "outputs": [
    {
     "data": {
      "text/plain": [
       "-1.0"
      ]
     },
     "execution_count": 28,
     "metadata": {},
     "output_type": "execute_result"
    }
   ],
   "source": [
    "import math as myAlias \n",
    "\n",
    "myAlias.cos(myAlias.pi)"
   ]
  },
  {
   "cell_type": "markdown",
   "id": "6e9ae685",
   "metadata": {},
   "source": [
    "Here we imported the **math** module by giving it the name **myAlias**. Now we can refer to the **math** module with this name. Using this name we calculated cos(pi) and got **-1.0** as the answer."
   ]
  },
  {
   "cell_type": "markdown",
   "id": "f575ffc5",
   "metadata": {},
   "source": [
    "### 1.1.5 assert"
   ]
  },
  {
   "cell_type": "markdown",
   "id": "5c93748b",
   "metadata": {},
   "source": [
    "**assert** is used for debugging purposes.\n"
   ]
  },
  {
   "cell_type": "markdown",
   "id": "f7393fa1",
   "metadata": {},
   "source": [
    "While programming, sometimes we wish to know the internal state or check if our assumptions are true. **assert** helps us do this and find bugs more conveniently. **assert** is followed by a condition.\n"
   ]
  },
  {
   "cell_type": "markdown",
   "id": "0de4275a",
   "metadata": {},
   "source": [
    "If the condition is true, nothing happens. But if the condition is false, **AssertionError** is raised. For example:"
   ]
  },
  {
   "cell_type": "code",
   "execution_count": 32,
   "id": "93a11eab",
   "metadata": {},
   "outputs": [],
   "source": [
    "a = 4"
   ]
  },
  {
   "cell_type": "code",
   "execution_count": 33,
   "id": "4080c121",
   "metadata": {},
   "outputs": [],
   "source": [
    "assert a < 5"
   ]
  },
  {
   "cell_type": "code",
   "execution_count": 34,
   "id": "f949e08d",
   "metadata": {},
   "outputs": [
    {
     "ename": "AssertionError",
     "evalue": "",
     "output_type": "error",
     "traceback": [
      "\u001b[0;31m-------------------------------------------------------------------\u001b[0m",
      "\u001b[0;31mAssertionError\u001b[0m                    Traceback (most recent call last)",
      "\u001b[0;32m<ipython-input-34-87acdaf14735>\u001b[0m in \u001b[0;36m<module>\u001b[0;34m\u001b[0m\n\u001b[0;32m----> 1\u001b[0;31m \u001b[0;32massert\u001b[0m \u001b[0ma\u001b[0m \u001b[0;34m>\u001b[0m \u001b[0;36m5\u001b[0m\u001b[0;34m\u001b[0m\u001b[0;34m\u001b[0m\u001b[0m\n\u001b[0m",
      "\u001b[0;31mAssertionError\u001b[0m: "
     ]
    }
   ],
   "source": [
    "assert a > 5"
   ]
  },
  {
   "cell_type": "markdown",
   "id": "16d782cf",
   "metadata": {},
   "source": [
    "For our better understanding, we can also provide a message to be printed with the **AssertionError**."
   ]
  },
  {
   "cell_type": "code",
   "execution_count": 35,
   "id": "5ac2648f",
   "metadata": {},
   "outputs": [
    {
     "ename": "AssertionError",
     "evalue": "The value of a is too small",
     "output_type": "error",
     "traceback": [
      "\u001b[0;31m-------------------------------------------------------------------\u001b[0m",
      "\u001b[0;31mAssertionError\u001b[0m                    Traceback (most recent call last)",
      "\u001b[0;32m<ipython-input-35-d8a5f223bb50>\u001b[0m in \u001b[0;36m<module>\u001b[0;34m\u001b[0m\n\u001b[1;32m      1\u001b[0m \u001b[0ma\u001b[0m \u001b[0;34m=\u001b[0m \u001b[0;36m4\u001b[0m\u001b[0;34m\u001b[0m\u001b[0;34m\u001b[0m\u001b[0m\n\u001b[0;32m----> 2\u001b[0;31m \u001b[0;32massert\u001b[0m \u001b[0ma\u001b[0m \u001b[0;34m>\u001b[0m \u001b[0;36m5\u001b[0m\u001b[0;34m,\u001b[0m \u001b[0;34m\"The value of a is too small\"\u001b[0m\u001b[0;34m\u001b[0m\u001b[0;34m\u001b[0m\u001b[0m\n\u001b[0m",
      "\u001b[0;31mAssertionError\u001b[0m: The value of a is too small"
     ]
    }
   ],
   "source": [
    "a = 4\n",
    "assert a > 5, \"The value of a is too small\""
   ]
  },
  {
   "cell_type": "markdown",
   "id": "06944192",
   "metadata": {},
   "source": [
    "At this point we can note that,"
   ]
  },
  {
   "cell_type": "code",
   "execution_count": null,
   "id": "e661c422",
   "metadata": {},
   "outputs": [],
   "source": [
    "assert condition, message"
   ]
  },
  {
   "cell_type": "markdown",
   "id": "9f477c8e",
   "metadata": {},
   "source": [
    "is equivalent to,"
   ]
  },
  {
   "cell_type": "code",
   "execution_count": null,
   "id": "887d73a7",
   "metadata": {},
   "outputs": [],
   "source": [
    "if not condition:\n",
    "    raise AssertionError(message)"
   ]
  },
  {
   "cell_type": "markdown",
   "id": "abf258c8",
   "metadata": {},
   "source": [
    "### 1.1.6 async/await"
   ]
  },
  {
   "cell_type": "markdown",
   "id": "63f799d0",
   "metadata": {},
   "source": [
    "The **async** and **await** keywords are provided by the **asyncio** library in Python. They are used to write concurrent code in Python. For example,"
   ]
  },
  {
   "cell_type": "code",
   "execution_count": 36,
   "id": "91b6ba59",
   "metadata": {},
   "outputs": [],
   "source": [
    "import asyncio \n",
    "\n",
    "async def main():\n",
    "    print('Hello')\n",
    "    await asyncio.sleep(1)\n",
    "    print('world')"
   ]
  },
  {
   "cell_type": "markdown",
   "id": "82e74fe5",
   "metadata": {},
   "source": [
    "To run the program, we use"
   ]
  },
  {
   "cell_type": "code",
   "execution_count": null,
   "id": "23107393",
   "metadata": {},
   "outputs": [],
   "source": [
    "asyncio.run(main())"
   ]
  },
  {
   "cell_type": "markdown",
   "id": "f0642fa2",
   "metadata": {},
   "source": [
    "In the above program, the **async** keyword specifies that the function will be executed asynchronously."
   ]
  },
  {
   "cell_type": "markdown",
   "id": "dab25592",
   "metadata": {},
   "source": [
    "Here, first Hello is printed. The **await** keyword makes the program wait for 1 second. And then the world is printed."
   ]
  },
  {
   "cell_type": "markdown",
   "id": "37d37f9b",
   "metadata": {},
   "source": [
    "### 1.1.7 break/continue"
   ]
  },
  {
   "cell_type": "markdown",
   "id": "41a290e3",
   "metadata": {},
   "source": [
    "**break** and **continue** are used inside for and while loops to alter their normal behavior."
   ]
  },
  {
   "cell_type": "markdown",
   "id": "ea805a1e",
   "metadata": {},
   "source": [
    "**break** will end the smallest loop it is in and control flows to the statement immediately below the loop.\n",
    "**continue** causes to end the current iteration of the loop, but not the whole loop."
   ]
  },
  {
   "cell_type": "markdown",
   "id": "4a56a8be",
   "metadata": {},
   "source": [
    "This can be illustrated with the following two examples:"
   ]
  },
  {
   "cell_type": "code",
   "execution_count": 39,
   "id": "c61f6783",
   "metadata": {},
   "outputs": [
    {
     "name": "stdout",
     "output_type": "stream",
     "text": [
      "0\n",
      "1\n",
      "2\n",
      "3\n",
      "4\n"
     ]
    }
   ],
   "source": [
    "for i in range(0,11):\n",
    "    if i == 5:\n",
    "        break\n",
    "    print(i)"
   ]
  },
  {
   "cell_type": "markdown",
   "id": "a4ce4db8",
   "metadata": {},
   "source": [
    "Here, the **for** loop intends to print numbers from 0 to 10. But the **if** condition is met when **i** is equal to 5 and we **break** from the loop. Thus, only the range 0 to 4 is printed."
   ]
  },
  {
   "cell_type": "code",
   "execution_count": 40,
   "id": "15b1f234",
   "metadata": {},
   "outputs": [
    {
     "name": "stdout",
     "output_type": "stream",
     "text": [
      "0\n",
      "1\n",
      "2\n",
      "3\n",
      "4\n",
      "6\n",
      "7\n",
      "8\n",
      "9\n",
      "10\n"
     ]
    }
   ],
   "source": [
    "for i in range(0,11):\n",
    "    if i == 5:\n",
    "        continue\n",
    "    print(i)"
   ]
  },
  {
   "cell_type": "markdown",
   "id": "52f9512d",
   "metadata": {},
   "source": [
    "Here we use **continue** for the same program. So, when the condition is met, that iteration is skipped. But we do not exit the loop. Hence, all the values except 5 are printed out."
   ]
  },
  {
   "cell_type": "markdown",
   "id": "f6f5a9a4",
   "metadata": {},
   "source": [
    "### 1.1.8 class"
   ]
  },
  {
   "cell_type": "markdown",
   "id": "315d0cd9",
   "metadata": {},
   "source": [
    "**class** is used to define a new user-defined class in Python."
   ]
  },
  {
   "cell_type": "markdown",
   "id": "1fe7269a",
   "metadata": {},
   "source": [
    "Class is a collection of related attributes and methods that try to represent a real-world situation. This idea of putting data and functions together in a class is central to the concept of object-oriented programming (OOP)."
   ]
  },
  {
   "cell_type": "markdown",
   "id": "1728c0a8",
   "metadata": {},
   "source": [
    "Classes can be defined anywhere in a program. But it is a good practice to define a single class in a module. Following is a sample usage:"
   ]
  },
  {
   "cell_type": "code",
   "execution_count": null,
   "id": "8b775621",
   "metadata": {},
   "outputs": [],
   "source": [
    "class ExampleClass:\n",
    "    def function1(parameters):\n",
    "        …\n",
    "    def function2(parameters):\n",
    "        …"
   ]
  },
  {
   "cell_type": "markdown",
   "id": "3b2073d5",
   "metadata": {},
   "source": [
    "### 1.1.9 def"
   ]
  },
  {
   "cell_type": "markdown",
   "id": "e9bd6707",
   "metadata": {},
   "source": [
    "**def** is used to define a user-defined function."
   ]
  },
  {
   "cell_type": "markdown",
   "id": "73fdf027",
   "metadata": {},
   "source": [
    "Function is a block of related statements, which together does some specific task. It helps us organize code into manageable chunks and also to do some repetitive task."
   ]
  },
  {
   "cell_type": "markdown",
   "id": "ab789201",
   "metadata": {},
   "source": [
    "The usage of def is shown below:"
   ]
  },
  {
   "cell_type": "code",
   "execution_count": null,
   "id": "a6a0f7c9",
   "metadata": {},
   "outputs": [],
   "source": [
    "def function_name(parameters):\n",
    "    …"
   ]
  },
  {
   "cell_type": "markdown",
   "id": "8687db76",
   "metadata": {},
   "source": [
    "### 1.1.10 del"
   ]
  },
  {
   "cell_type": "markdown",
   "id": "3d88dbd2",
   "metadata": {},
   "source": [
    "**del** is used to delete the reference to an object. Everything is object in Python. We can delete a variable reference using **del**"
   ]
  },
  {
   "cell_type": "code",
   "execution_count": 41,
   "id": "0dfc713b",
   "metadata": {},
   "outputs": [],
   "source": [
    "a = b = 5"
   ]
  },
  {
   "cell_type": "code",
   "execution_count": 44,
   "id": "914f660f",
   "metadata": {},
   "outputs": [
    {
     "ename": "NameError",
     "evalue": "name 'a' is not defined",
     "output_type": "error",
     "traceback": [
      "\u001b[0;31m-------------------------------------------------------------------\u001b[0m",
      "\u001b[0;31mNameError\u001b[0m                         Traceback (most recent call last)",
      "\u001b[0;32m<ipython-input-44-d4834d16dd0a>\u001b[0m in \u001b[0;36m<module>\u001b[0;34m\u001b[0m\n\u001b[0;32m----> 1\u001b[0;31m \u001b[0;32mdel\u001b[0m \u001b[0ma\u001b[0m\u001b[0;34m\u001b[0m\u001b[0;34m\u001b[0m\u001b[0m\n\u001b[0m\u001b[1;32m      2\u001b[0m \u001b[0ma\u001b[0m\u001b[0;34m\u001b[0m\u001b[0;34m\u001b[0m\u001b[0m\n",
      "\u001b[0;31mNameError\u001b[0m: name 'a' is not defined"
     ]
    }
   ],
   "source": [
    "del a \n",
    "a"
   ]
  },
  {
   "cell_type": "code",
   "execution_count": 45,
   "id": "0dfe6de2",
   "metadata": {},
   "outputs": [
    {
     "data": {
      "text/plain": [
       "5"
      ]
     },
     "execution_count": 45,
     "metadata": {},
     "output_type": "execute_result"
    }
   ],
   "source": [
    "b"
   ]
  },
  {
   "cell_type": "markdown",
   "id": "4683c07c",
   "metadata": {},
   "source": [
    "Here we can see that the reference of the variable **a** was deleted. So, it is no longer defined. But **b** still exists."
   ]
  },
  {
   "cell_type": "markdown",
   "id": "ba1c7e83",
   "metadata": {},
   "source": [
    "**del** is also used to delete items from a list or a dictionary:"
   ]
  },
  {
   "cell_type": "code",
   "execution_count": 46,
   "id": "2bf16533",
   "metadata": {},
   "outputs": [
    {
     "data": {
      "text/plain": [
       "['x', 'z']"
      ]
     },
     "execution_count": 46,
     "metadata": {},
     "output_type": "execute_result"
    }
   ],
   "source": [
    "a = ['x','y','z']\n",
    "del a[1]\n",
    "a"
   ]
  },
  {
   "cell_type": "markdown",
   "id": "e0d3c2af",
   "metadata": {},
   "source": [
    "### 1.1.11 if,else,elif"
   ]
  },
  {
   "cell_type": "markdown",
   "id": "3429cfa7",
   "metadata": {},
   "source": [
    "**if, else, elif** are used for conditional branching or decision making.\n",
    "\n",
    "When we want to test some condition and execute a block only if the condition is true, then we use **if** and **elif**. **elif** is short for else if. **else** is the block which is executed if the condition is false. \n",
    "\n",
    "This will be clear with the following example:"
   ]
  },
  {
   "cell_type": "code",
   "execution_count": 47,
   "id": "1f1977d4",
   "metadata": {},
   "outputs": [
    {
     "name": "stdout",
     "output_type": "stream",
     "text": [
      "Two\n",
      "Something else\n",
      "One\n"
     ]
    }
   ],
   "source": [
    "def if_example(a):\n",
    "    if a == 1:\n",
    "        print('One')\n",
    "    elif a == 2:\n",
    "        print('Two')\n",
    "    else:\n",
    "        print('Something else')\n",
    "        \n",
    "if_example(2)\n",
    "if_example(4)\n",
    "if_example(1)"
   ]
  },
  {
   "cell_type": "markdown",
   "id": "b7a42826",
   "metadata": {},
   "source": [
    "Here, the function checks the input number and prints the result if it is 1 or 2. Any input other than this will cause the **else** part of the code to execute."
   ]
  },
  {
   "cell_type": "markdown",
   "id": "f67788d0",
   "metadata": {},
   "source": [
    "### 1.1.12 except,raise,try"
   ]
  },
  {
   "cell_type": "markdown",
   "id": "30a45f43",
   "metadata": {},
   "source": [
    "**except, raise, try** are used with exceptions in Python.\n",
    "\n",
    "Exceptions are basically errors that suggests something went wrong while executing our program. **IOError**, **ValueError**, **ZeroDivisionError**, **ImportError**, **NameError**, **TypeError** etc. are few examples of exception in Python. **try...except** blocks are used to catch exceptions in Python.\n",
    "\n",
    "We can raise an exception explicitly with the **raise** keyword. Following is an example:"
   ]
  },
  {
   "cell_type": "code",
   "execution_count": 48,
   "id": "4f0be171",
   "metadata": {},
   "outputs": [
    {
     "name": "stdout",
     "output_type": "stream",
     "text": [
      "0.1\n",
      "Exception caught\n",
      "None\n"
     ]
    }
   ],
   "source": [
    "def reciprocal(num):\n",
    "    try:\n",
    "        r = 1/num\n",
    "    except:\n",
    "        print('Exception caught')\n",
    "        return\n",
    "    return r \n",
    "\n",
    "print(reciprocal(10))\n",
    "print(reciprocal(0))"
   ]
  },
  {
   "cell_type": "markdown",
   "id": "18a89645",
   "metadata": {},
   "source": [
    "Here, the function **reciprocal()** returns the reciprocal of the input number.\n",
    "\n",
    "When we enter 10, we get the normal output of 0.1. But when we input 0, a **ZeroDivisionError** is raised automatically.\n",
    "\n",
    "This is caught by our **try…except** block and we return **None**. We could have also raised the **ZeroDivisionError** explicitly by checking the input and handled it elsewhere as follows:"
   ]
  },
  {
   "cell_type": "code",
   "execution_count": null,
   "id": "be3ee720",
   "metadata": {},
   "outputs": [],
   "source": [
    "if num == 0:\n",
    "    raise ZeroDivisionError('cannot divide')"
   ]
  },
  {
   "cell_type": "markdown",
   "id": "05f89c39",
   "metadata": {},
   "source": [
    "### 1.1.13 finally"
   ]
  },
  {
   "cell_type": "markdown",
   "id": "81ae9ea1",
   "metadata": {},
   "source": [
    "**finally** is used with **try…except** block to close up resources or file streams.\n",
    "\n",
    "Using **finally** ensures that the block of code inside it gets executed even if there is an unhandled exception. For example:"
   ]
  },
  {
   "cell_type": "code",
   "execution_count": null,
   "id": "8a3312d8",
   "metadata": {},
   "outputs": [],
   "source": [
    "try:\n",
    "    Try-block\n",
    "except exception1:\n",
    "    Exception1-block\n",
    "except exception2:\n",
    "    Exception2-block\n",
    "else:\n",
    "    Else-block\n",
    "finally:\n",
    "    Finally-block"
   ]
  },
  {
   "cell_type": "markdown",
   "id": "272a1133",
   "metadata": {},
   "source": [
    "Here if there is an exception in the **Try-block**, it is handled in the **except** or **else** block. But no matter in what order the execution flows, we can rest assured that the **Finally-block** is executed even if there is an error. This is useful in cleaning up the resources."
   ]
  },
  {
   "cell_type": "markdown",
   "id": "45e8dba2",
   "metadata": {},
   "source": [
    "### 1.1.14 for"
   ]
  },
  {
   "cell_type": "markdown",
   "id": "fe917d79",
   "metadata": {},
   "source": [
    "**for** is used for looping. Generally we use **for** when we know the number of times we want to loop.\n",
    "\n",
    "In Python we can use it with any type of sequences like a list or a string. Here is an example in which **for** is used to traverse through a list of names:"
   ]
  },
  {
   "cell_type": "code",
   "execution_count": 2,
   "id": "31985a1c",
   "metadata": {},
   "outputs": [
    {
     "name": "stdout",
     "output_type": "stream",
     "text": [
      "Hello Tanveer\n",
      "Hello Rohit\n",
      "Hello Shaheem\n",
      "Hello Avinash\n"
     ]
    }
   ],
   "source": [
    "names = ['Tanveer','Rohit','Shaheem','Avinash']\n",
    "for i in names:\n",
    "    print('Hello '+i)"
   ]
  },
  {
   "cell_type": "markdown",
   "id": "99767d5f",
   "metadata": {},
   "source": [
    "### 1.1.15 from, import"
   ]
  },
  {
   "cell_type": "markdown",
   "id": "99a8ee0f",
   "metadata": {},
   "source": [
    "**import** keyword is used to import modules into the current namespace. **from…import** is used to import specific attributes or functions into the current namespace. For example:"
   ]
  },
  {
   "cell_type": "code",
   "execution_count": 4,
   "id": "7c0da394",
   "metadata": {},
   "outputs": [],
   "source": [
    "import math"
   ]
  },
  {
   "cell_type": "markdown",
   "id": "49e7fceb",
   "metadata": {},
   "source": [
    "will import the **math** module. Now we can use the **cos()** function inside it as **math.cos()**. But if we wanted to import just the **cos()** function, this can done using **from** as"
   ]
  },
  {
   "cell_type": "code",
   "execution_count": null,
   "id": "774cd4ed",
   "metadata": {},
   "outputs": [],
   "source": [
    "from math import cos"
   ]
  },
  {
   "cell_type": "markdown",
   "id": "9d1d7f18",
   "metadata": {},
   "source": [
    "now we can use the function simply as **cos()**, no need to write **math.cos()**."
   ]
  },
  {
   "cell_type": "markdown",
   "id": "89e53b98",
   "metadata": {},
   "source": [
    "### 1.1.16 global"
   ]
  },
  {
   "cell_type": "markdown",
   "id": "c79d2f45",
   "metadata": {},
   "source": [
    "**global** is used to declare that a variable inside the function is global (outside the function).\n",
    "\n",
    "If we need to read the value of a global variable, it is not necessary to define it as **global**. This is understood.\n",
    "\n",
    "If we need to modify the value of a global variable inside a function, then we must declare it with **global**. Otherwise, a local variable with that name is created.\n",
    "\n",
    "Following example will help us clarify this."
   ]
  },
  {
   "cell_type": "code",
   "execution_count": 5,
   "id": "07c90dc1",
   "metadata": {},
   "outputs": [
    {
     "name": "stdout",
     "output_type": "stream",
     "text": [
      "10\n",
      "5\n",
      "5\n"
     ]
    }
   ],
   "source": [
    "globvar = 10\n",
    "\n",
    "def read1():\n",
    "    print(globvar)\n",
    "    \n",
    "def write1():\n",
    "    global globvar\n",
    "    globvar = 5\n",
    "    \n",
    "def write2():\n",
    "    globvar = 15\n",
    "    \n",
    "read1()\n",
    "write1()\n",
    "read1()\n",
    "write2()\n",
    "read1()"
   ]
  },
  {
   "cell_type": "markdown",
   "id": "6990f794",
   "metadata": {},
   "source": [
    "Here, the **read1()** function is just reading the value of **globvar**. So, we do not need to declare it as **global**. But the **write1()** function is modifying the value, so we need to declare the variable as **global**.\n",
    "\n",
    "We can see in our output that the modification did take place (10 is changed to 5). The **write2()** also tries to modify this value. But we have not declared it as **global**.\n",
    "\n",
    "Hence, a new local variable **globvar** is created which is not visible outside this function. Although we modify this local variable to 15, the global variable remains unchanged. This is clearly visible in our output."
   ]
  },
  {
   "cell_type": "markdown",
   "id": "ed482d12",
   "metadata": {},
   "source": [
    "### 1.1.17 in "
   ]
  },
  {
   "cell_type": "markdown",
   "id": "346e3be4",
   "metadata": {},
   "source": [
    "**in** is used to test if a sequence (list, tuple, string etc.) contains a value. It returns **True** if the value is present, else it returns **False**. For example:"
   ]
  },
  {
   "cell_type": "code",
   "execution_count": 7,
   "id": "6838c05d",
   "metadata": {},
   "outputs": [],
   "source": [
    "a = [1,2,3,4,5]"
   ]
  },
  {
   "cell_type": "code",
   "execution_count": 9,
   "id": "1c5623dc",
   "metadata": {},
   "outputs": [
    {
     "data": {
      "text/plain": [
       "True"
      ]
     },
     "execution_count": 9,
     "metadata": {},
     "output_type": "execute_result"
    }
   ],
   "source": [
    "5 in a"
   ]
  },
  {
   "cell_type": "code",
   "execution_count": 10,
   "id": "04edb842",
   "metadata": {},
   "outputs": [
    {
     "data": {
      "text/plain": [
       "False"
      ]
     },
     "execution_count": 10,
     "metadata": {},
     "output_type": "execute_result"
    }
   ],
   "source": [
    "10 in a "
   ]
  },
  {
   "cell_type": "markdown",
   "id": "3d7b3c59",
   "metadata": {},
   "source": [
    "The secondary use of **in** is to traverse through a sequence in a **for** loop."
   ]
  },
  {
   "cell_type": "code",
   "execution_count": 11,
   "id": "477ee9ea",
   "metadata": {},
   "outputs": [
    {
     "name": "stdout",
     "output_type": "stream",
     "text": [
      "H\n",
      "E\n",
      "L\n",
      "L\n",
      "O\n"
     ]
    }
   ],
   "source": [
    "for i in 'HELLO':\n",
    "    print(i)"
   ]
  },
  {
   "cell_type": "markdown",
   "id": "551ff9f3",
   "metadata": {},
   "source": [
    "### 1.1.18 is "
   ]
  },
  {
   "cell_type": "markdown",
   "id": "a5220c16",
   "metadata": {},
   "source": [
    "**is** is used in Python for testing object identity. While the **==** operator is used to test if two variables are equal or not, is is used to test if the two variables refer to the same object.\n",
    "It returns **True** if the objects are identical and **False** if not."
   ]
  },
  {
   "cell_type": "code",
   "execution_count": 12,
   "id": "f46e78fd",
   "metadata": {},
   "outputs": [
    {
     "data": {
      "text/plain": [
       "True"
      ]
     },
     "execution_count": 12,
     "metadata": {},
     "output_type": "execute_result"
    }
   ],
   "source": [
    "True is True "
   ]
  },
  {
   "cell_type": "code",
   "execution_count": 13,
   "id": "0cc5cd60",
   "metadata": {},
   "outputs": [
    {
     "data": {
      "text/plain": [
       "True"
      ]
     },
     "execution_count": 13,
     "metadata": {},
     "output_type": "execute_result"
    }
   ],
   "source": [
    "False is False "
   ]
  },
  {
   "cell_type": "code",
   "execution_count": 14,
   "id": "275f1371",
   "metadata": {},
   "outputs": [
    {
     "data": {
      "text/plain": [
       "False"
      ]
     },
     "execution_count": 14,
     "metadata": {},
     "output_type": "execute_result"
    }
   ],
   "source": [
    "True is False "
   ]
  },
  {
   "cell_type": "code",
   "execution_count": 15,
   "id": "d260fd51",
   "metadata": {},
   "outputs": [
    {
     "data": {
      "text/plain": [
       "True"
      ]
     },
     "execution_count": 15,
     "metadata": {},
     "output_type": "execute_result"
    }
   ],
   "source": [
    "None is None "
   ]
  },
  {
   "cell_type": "markdown",
   "id": "7e0075aa",
   "metadata": {},
   "source": [
    "We know that there is only one instance of **True**, **False** and **None** in Python, so they are identical."
   ]
  },
  {
   "cell_type": "code",
   "execution_count": 16,
   "id": "300828dc",
   "metadata": {},
   "outputs": [
    {
     "data": {
      "text/plain": [
       "True"
      ]
     },
     "execution_count": 16,
     "metadata": {},
     "output_type": "execute_result"
    }
   ],
   "source": [
    "[] == [] "
   ]
  },
  {
   "cell_type": "code",
   "execution_count": 17,
   "id": "6c080b44",
   "metadata": {},
   "outputs": [
    {
     "data": {
      "text/plain": [
       "False"
      ]
     },
     "execution_count": 17,
     "metadata": {},
     "output_type": "execute_result"
    }
   ],
   "source": [
    "[] is [] "
   ]
  },
  {
   "cell_type": "code",
   "execution_count": 18,
   "id": "04359fd6",
   "metadata": {},
   "outputs": [
    {
     "data": {
      "text/plain": [
       "True"
      ]
     },
     "execution_count": 18,
     "metadata": {},
     "output_type": "execute_result"
    }
   ],
   "source": [
    "{} == {} "
   ]
  },
  {
   "cell_type": "code",
   "execution_count": 19,
   "id": "119ae6ff",
   "metadata": {},
   "outputs": [
    {
     "data": {
      "text/plain": [
       "False"
      ]
     },
     "execution_count": 19,
     "metadata": {},
     "output_type": "execute_result"
    }
   ],
   "source": [
    "{} is {} "
   ]
  },
  {
   "cell_type": "markdown",
   "id": "72f2965d",
   "metadata": {},
   "source": [
    "An empty list or dictionary is equal to another empty one. But they are not identical objects as they are located separately in memory. This is because list and dictionary are mutable (value can be changed)."
   ]
  },
  {
   "cell_type": "code",
   "execution_count": 20,
   "id": "fb4d0efb",
   "metadata": {},
   "outputs": [
    {
     "data": {
      "text/plain": [
       "True"
      ]
     },
     "execution_count": 20,
     "metadata": {},
     "output_type": "execute_result"
    }
   ],
   "source": [
    "'' == '' "
   ]
  },
  {
   "cell_type": "code",
   "execution_count": 21,
   "id": "83040988",
   "metadata": {},
   "outputs": [
    {
     "name": "stderr",
     "output_type": "stream",
     "text": [
      "<>:1: SyntaxWarning: \"is\" with a literal. Did you mean \"==\"?\n",
      "<>:1: SyntaxWarning: \"is\" with a literal. Did you mean \"==\"?\n",
      "<ipython-input-21-ec7b453230b4>:1: SyntaxWarning: \"is\" with a literal. Did you mean \"==\"?\n",
      "  '' is ''\n"
     ]
    },
    {
     "data": {
      "text/plain": [
       "True"
      ]
     },
     "execution_count": 21,
     "metadata": {},
     "output_type": "execute_result"
    }
   ],
   "source": [
    "'' is '' "
   ]
  },
  {
   "cell_type": "code",
   "execution_count": 22,
   "id": "afc1c758",
   "metadata": {},
   "outputs": [
    {
     "data": {
      "text/plain": [
       "True"
      ]
     },
     "execution_count": 22,
     "metadata": {},
     "output_type": "execute_result"
    }
   ],
   "source": [
    "() == () "
   ]
  },
  {
   "cell_type": "code",
   "execution_count": 23,
   "id": "a70ceae5",
   "metadata": {},
   "outputs": [
    {
     "name": "stderr",
     "output_type": "stream",
     "text": [
      "<>:1: SyntaxWarning: \"is\" with a literal. Did you mean \"==\"?\n",
      "<>:1: SyntaxWarning: \"is\" with a literal. Did you mean \"==\"?\n",
      "<ipython-input-23-6e827e4109ae>:1: SyntaxWarning: \"is\" with a literal. Did you mean \"==\"?\n",
      "  () is ()\n"
     ]
    },
    {
     "data": {
      "text/plain": [
       "True"
      ]
     },
     "execution_count": 23,
     "metadata": {},
     "output_type": "execute_result"
    }
   ],
   "source": [
    "() is () "
   ]
  },
  {
   "cell_type": "markdown",
   "id": "7455c1d8",
   "metadata": {},
   "source": [
    "Unlike list and dictionary, string and tuple are immutable (value cannot be altered once defined). Hence, two equal string or tuple are identical as well. They refer to the same memory location."
   ]
  },
  {
   "cell_type": "markdown",
   "id": "2b043332",
   "metadata": {},
   "source": [
    "### 1.1.19 lambda "
   ]
  },
  {
   "cell_type": "markdown",
   "id": "71296cf4",
   "metadata": {},
   "source": [
    "**lambda** is used to create an anonymous function (function with no name). It is an inline function that does not contain a **return** statement. It consists of an expression that is evaluated and returned. For example:"
   ]
  },
  {
   "cell_type": "code",
   "execution_count": 24,
   "id": "4e29a1df",
   "metadata": {},
   "outputs": [
    {
     "name": "stdout",
     "output_type": "stream",
     "text": [
      "2\n",
      "4\n",
      "6\n",
      "8\n",
      "10\n"
     ]
    }
   ],
   "source": [
    "a = lambda x: x*2\n",
    "for i in range(1,6):\n",
    "    print(a(i))"
   ]
  },
  {
   "cell_type": "markdown",
   "id": "598d16bc",
   "metadata": {},
   "source": [
    "Here, we have created an inline function that doubles the value, using the **lambda** statement. We used this to double the values in a list containing 1 to 5."
   ]
  },
  {
   "cell_type": "markdown",
   "id": "eba61438",
   "metadata": {},
   "source": [
    "### 1.1.20 nonlocal"
   ]
  },
  {
   "cell_type": "markdown",
   "id": "ad25a34e",
   "metadata": {},
   "source": [
    "The use of **nonlocal** keyword is very much similar to the **global** keyword. **nonlocal** is used to declare that a variable inside a nested function (function inside a function) is not local to it, meaning it lies in the outer inclosing function. If we need to modify the value of a non-local variable inside a nested function, then we must declare it with **nonlocal**. Otherwise a local variable with that name is created inside the nested function. Following example will help us clarify this."
   ]
  },
  {
   "cell_type": "code",
   "execution_count": 25,
   "id": "a62fa888",
   "metadata": {},
   "outputs": [
    {
     "name": "stdout",
     "output_type": "stream",
     "text": [
      "Inner function:  10\n",
      "Outer function:  10\n"
     ]
    }
   ],
   "source": [
    "def outer_function():\n",
    "    a = 5\n",
    "    def inner_function():\n",
    "        nonlocal a\n",
    "        a = 10\n",
    "        print(\"Inner function: \",a)\n",
    "    inner_function()\n",
    "    print(\"Outer function: \",a)\n",
    "    \n",
    "outer_function()"
   ]
  },
  {
   "cell_type": "markdown",
   "id": "855e9d2d",
   "metadata": {},
   "source": [
    "Here, the **inner_function()** is nested within the **outer_function**.\n",
    "\n",
    "The variable a is in the **outer_function()**. So, if we want to modify it in the **inner_function()**, we must declare it as **nonlocal**. Notice that a is not a global variable.\n",
    "\n",
    "Hence, we see from the output that the variable was successfully modified inside the nested **inner_function()**. The result of not using the **nonlocal** keyword is as follows:"
   ]
  },
  {
   "cell_type": "code",
   "execution_count": 26,
   "id": "b6808456",
   "metadata": {},
   "outputs": [
    {
     "name": "stdout",
     "output_type": "stream",
     "text": [
      "Inner function:  10\n",
      "Outer function:  5\n"
     ]
    }
   ],
   "source": [
    "def outer_function():\n",
    "    a = 5\n",
    "    def inner_function():\n",
    "        a = 10\n",
    "        print(\"Inner function: \",a)\n",
    "    inner_function()\n",
    "    print(\"Outer function: \",a) \n",
    "    \n",
    "outer_function()"
   ]
  },
  {
   "cell_type": "markdown",
   "id": "cad13130",
   "metadata": {},
   "source": [
    "Here, we do not declare that the variable **a** inside the nested function is **nonlocal**. Hence, a new local variable with the same name is created, but the non-local **a** is not modified as seen in our output."
   ]
  }
 ],
 "metadata": {
  "kernelspec": {
   "display_name": "Python 3",
   "language": "python",
   "name": "python3"
  },
  "language_info": {
   "codemirror_mode": {
    "name": "ipython",
    "version": 3
   },
   "file_extension": ".py",
   "mimetype": "text/x-python",
   "name": "python",
   "nbconvert_exporter": "python",
   "pygments_lexer": "ipython3",
   "version": "3.8.3"
  }
 },
 "nbformat": 4,
 "nbformat_minor": 5
}
