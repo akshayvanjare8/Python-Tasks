{
 "cells": [
  {
   "cell_type": "markdown",
   "id": "b4ad26d9",
   "metadata": {},
   "source": [
    "# **Task**\n",
    "Write a program to find the two number in the array of 20 whose product (multiplication) is equal to given number by the user. You can write this program in any programming language you are familiar with. You will be tested on logic, code design and exception handling."
   ]
  },
  {
   "cell_type": "code",
   "execution_count": 1,
   "id": "96a86e27",
   "metadata": {},
   "outputs": [
    {
     "name": "stdout",
     "output_type": "stream",
     "text": [
      "Enter a Number: 20\n",
      "1 x 20 = 20\n",
      "2 x 10 = 20\n",
      "4 x 5 = 20\n",
      "5 x 4 = 20\n",
      "10 x 2 = 20\n",
      "20 x 1 = 20\n"
     ]
    }
   ],
   "source": [
    "arr = [1,2,3,4,5,6,7,8,9,10,11,12,13,14,15,16,17,18,19,20] \n",
    "inpt = int(input(\"Enter a Number: \")) \n",
    "for i in range(0,20,1): \n",
    "    a = arr[i] \n",
    "    for j in range(0,20,1): \n",
    "        b = arr[j] \n",
    "        if (a * b) == inpt: \n",
    "            print(a,\"x\",b,\"=\",inpt) \n",
    "        else: \n",
    "            continue"
   ]
  },
  {
   "cell_type": "markdown",
   "id": "0f166f48",
   "metadata": {},
   "source": [
    "# Task \n",
    "Write a program to find the two number in the array of 20 whose plus (addition) is equal to given number by the user. You can write this program in any programming language you are familiar with. You will be tested on logic, code design and exception handling."
   ]
  },
  {
   "cell_type": "code",
   "execution_count": 2,
   "id": "7b640e13",
   "metadata": {},
   "outputs": [
    {
     "name": "stdout",
     "output_type": "stream",
     "text": [
      "Enter a Number: 20\n",
      "1 + 19 = 20\n",
      "2 + 18 = 20\n",
      "3 + 17 = 20\n",
      "4 + 16 = 20\n",
      "5 + 15 = 20\n",
      "6 + 14 = 20\n",
      "7 + 13 = 20\n",
      "8 + 12 = 20\n",
      "9 + 11 = 20\n",
      "10 + 10 = 20\n",
      "11 + 9 = 20\n",
      "12 + 8 = 20\n",
      "13 + 7 = 20\n",
      "14 + 6 = 20\n",
      "15 + 5 = 20\n",
      "16 + 4 = 20\n",
      "17 + 3 = 20\n",
      "18 + 2 = 20\n",
      "19 + 1 = 20\n"
     ]
    }
   ],
   "source": [
    "arr = [1,2,3,4,5,6,7,8,9,10,11,12,13,14,15,16,17,18,19,20] \n",
    "inpt = int(input(\"Enter a Number: \")) \n",
    "for i in range(0,20,1): \n",
    "    a = arr[i] \n",
    "    for j in range(0,20,1): \n",
    "        b = arr[j] \n",
    "        if (a + b) == inpt: \n",
    "            print(a,\"+\",b,\"=\",inpt) \n",
    "        else: \n",
    "            continue"
   ]
  },
  {
   "cell_type": "markdown",
   "id": "8996d447",
   "metadata": {},
   "source": [
    "# Task \n",
    "\n",
    "The two detective agents who are working on a secret mission wants to communicate in code language with each other They decided below some rules for encoding a message . The first word should be changed as all vowels should be replaced by %. The second word should be changed like all consonants should be replaced by #. The third word should be in upper case."
   ]
  },
  {
   "cell_type": "code",
   "execution_count": 3,
   "id": "9a061f0c",
   "metadata": {},
   "outputs": [
    {
     "name": "stdout",
     "output_type": "stream",
     "text": [
      "Enter a Sentence 1: Akshay\n",
      "Enter a Sentence 2: Nivrutti\n",
      "Enter a Sentence 3: Vanjare\n",
      "%ksh%y   @i@@u@@i   VANJARE\n"
     ]
    }
   ],
   "source": [
    "vowel = ['a','e','i','o','u','A','E','I','O','U']\n",
    "a = input(\"Enter a Sentence 1: \")\n",
    "b = input(\"Enter a Sentence 2: \")\n",
    "c = input(\"Enter a Sentence 3: \")\n",
    "for x in a:\n",
    "    if x in vowel:\n",
    "        a = a.replace(x,'%')\n",
    "        for y in b:\n",
    "            if y not in vowel:\n",
    "                b = b.replace(y,'@')\n",
    "                c = c.upper()\n",
    "print(a,\" \",b,\" \",c)"
   ]
  },
  {
   "cell_type": "markdown",
   "id": "aa85dd1d",
   "metadata": {},
   "source": [
    "# Task \n",
    "\n",
    "Write a Python program to check whether a specified value is contained in a group of values.\n",
    "#### Test Data:\n",
    "\n",
    "3 -> [1, 5, 8, 3] : True\n",
    "\n",
    "-1 -> [1, 5, 8, 3] : False"
   ]
  },
  {
   "cell_type": "code",
   "execution_count": 6,
   "id": "0de94c69",
   "metadata": {},
   "outputs": [
    {
     "name": "stdout",
     "output_type": "stream",
     "text": [
      "False\n",
      "False\n"
     ]
    }
   ],
   "source": [
    "def is_group_member(group_data, n):\n",
    "    for value in group_data:\n",
    "        if n == value:\n",
    "            return True\n",
    "        return False \n",
    "    \n",
    "print(is_group_member([1, 5, 8, 3], 3))\n",
    "print(is_group_member([5, 8, 3], -1))"
   ]
  },
  {
   "cell_type": "markdown",
   "id": "34e8c40c",
   "metadata": {},
   "source": [
    "# Task \n",
    "\n",
    "Write a Python program to create a histogram from a given list of integers."
   ]
  },
  {
   "cell_type": "code",
   "execution_count": 16,
   "id": "a0241d89",
   "metadata": {},
   "outputs": [
    {
     "name": "stdout",
     "output_type": "stream",
     "text": [
      "@@@@@\n",
      "@@@\n",
      "@@@@@@@\n",
      "@@@@@@\n"
     ]
    }
   ],
   "source": [
    "def histogram( items ):\n",
    "    for n in items:\n",
    "        output = ''\n",
    "        times = n\n",
    "        while( times > 0 ):\n",
    "            output += '@'\n",
    "            times = times - 1\n",
    "        print(output)\n",
    "histogram([5, 3, 7, 6])\n"
   ]
  },
  {
   "cell_type": "markdown",
   "id": "b62dbae9",
   "metadata": {},
   "source": [
    "# Task \n",
    "Write a Python program to print out all even numbers from a given numbers list in the same order and stop the printing if any numbers that come after 237 in the sequence.\n",
    "\n",
    "Sample numbers list:\n",
    "\n",
    "numbers = [386, 462, 47, 418, 907, 344, 236, 375, 823, 566, 597, 978, 328, 615, 953, 345, 399, 162, 758, 219, 918, 237, 412, 566, 826, 248, 866, 950, 626, 949, 687, 217, 815, 67, 104, 58, 512, 24, 892, 894, 767, 553, 81, 379, 843, 831, 445, 742, 717, 958,743, 527]\n"
   ]
  },
  {
   "cell_type": "code",
   "execution_count": 17,
   "id": "bafa87e8",
   "metadata": {},
   "outputs": [
    {
     "name": "stdout",
     "output_type": "stream",
     "text": [
      "386\n",
      "462\n",
      "418\n",
      "344\n",
      "236\n",
      "566\n",
      "978\n",
      "328\n",
      "162\n",
      "758\n",
      "918\n",
      "237\n"
     ]
    }
   ],
   "source": [
    "numbers = [386, 462, 47, 418, 907, 344, 236, 375, 823, 566, 597, 978, 328, 615, 953, 345, 399, 162, 758, 219, 918, 237, 412, 566, 826, 248, 866, 950, 626, 949, 687, 217, 815, 67, 104, 58, 512, 24, 892, 894, 767, 553, 81, 379, 843, 831, 445, 742, 717, 958, 743, 527]\n",
    "\n",
    "for x in numbers:\n",
    "    if x == 237:\n",
    "        print(x)\n",
    "        break;\n",
    "    elif x % 2 == 0:\n",
    "        print(x)"
   ]
  },
  {
   "cell_type": "markdown",
   "id": "faa89b42",
   "metadata": {},
   "source": [
    "# Task \n",
    "\n",
    "Write a Python program to get the Python version you are using."
   ]
  },
  {
   "cell_type": "code",
   "execution_count": 18,
   "id": "bcc5a035",
   "metadata": {},
   "outputs": [
    {
     "name": "stdout",
     "output_type": "stream",
     "text": [
      "Python version :  3.8.3 (default, May 27 2020, 02:08:17) \n",
      "[GCC 9.3.0]\n",
      "Version info. :  sys.version_info(major=3, minor=8, micro=3, releaselevel='final', serial=0)\n"
     ]
    }
   ],
   "source": [
    "import sys\n",
    "print (\"Python version : \",sys.version)\n",
    "print (\"Version info. : \", sys.version_info)"
   ]
  },
  {
   "cell_type": "markdown",
   "id": "7535edce",
   "metadata": {},
   "source": [
    "# Task \n",
    "\n",
    "Write a Python program to display the current date and time."
   ]
  },
  {
   "cell_type": "code",
   "execution_count": 19,
   "id": "ac3a8fb0",
   "metadata": {},
   "outputs": [
    {
     "name": "stdout",
     "output_type": "stream",
     "text": [
      "Current date and time :  2021-06-16 21:22:19\n"
     ]
    }
   ],
   "source": [
    "import datetime\n",
    "now = datetime.datetime.now()\n",
    "\n",
    "print (\"Current date and time : \", now.strftime(\"%Y-%m-%d %H:%M:%S\"))"
   ]
  },
  {
   "cell_type": "markdown",
   "id": "804cbbe4",
   "metadata": {},
   "source": [
    "# Task \n",
    "\n",
    "Write a Python program which accepts the radius of a circle from the user and compute the area. Go to the editor\n",
    "\n",
    "Sample Output :\n",
    "\n",
    "r = 1.1\n",
    "    \n",
    "Area = 3.8013271108436504"
   ]
  },
  {
   "cell_type": "code",
   "execution_count": 24,
   "id": "6a5c3981",
   "metadata": {},
   "outputs": [
    {
     "name": "stdout",
     "output_type": "stream",
     "text": [
      "Enter value of r : 1.1\n",
      "3.8013271108436504\n"
     ]
    }
   ],
   "source": [
    "pi = 3.141592653589793\n",
    "\n",
    "r = float(input(\"Enter value of r : \"))\n",
    "\n",
    "print(pi*r**2)"
   ]
  },
  {
   "cell_type": "code",
   "execution_count": 22,
   "id": "386c63fd",
   "metadata": {},
   "outputs": [
    {
     "name": "stdout",
     "output_type": "stream",
     "text": [
      "Input the radius of the circle : 1.1\n",
      "The area of the circle with radius 1.1 is: 3.8013271108436504\n"
     ]
    }
   ],
   "source": [
    "from math import pi\n",
    "r = float(input (\"Input the radius of the circle : \"))\n",
    "print (\"The area of the circle with radius \" + str(r) + \" is: \" + str(pi * r**2))"
   ]
  },
  {
   "cell_type": "markdown",
   "id": "bad5fc1d",
   "metadata": {},
   "source": [
    "# Task \n",
    "\n",
    "Write a Python program which accepts the user's first and last name and print them in reverse order with a space between them."
   ]
  },
  {
   "cell_type": "code",
   "execution_count": 26,
   "id": "ec0cd869",
   "metadata": {},
   "outputs": [
    {
     "name": "stdout",
     "output_type": "stream",
     "text": [
      "Enter your First Name : Akshay\n",
      "Enter your Last Name : Vanjare\n",
      "Vanjare Akshay\n"
     ]
    }
   ],
   "source": [
    "first_name = input(\"Enter your First Name : \")\n",
    "last_name = input(\"Enter your Last Name : \")\n",
    "print (last_name + \" \" + first_name)"
   ]
  },
  {
   "cell_type": "code",
   "execution_count": null,
   "id": "4122ed39",
   "metadata": {},
   "outputs": [],
   "source": []
  }
 ],
 "metadata": {
  "kernelspec": {
   "display_name": "Python 3",
   "language": "python",
   "name": "python3"
  },
  "language_info": {
   "codemirror_mode": {
    "name": "ipython",
    "version": 3
   },
   "file_extension": ".py",
   "mimetype": "text/x-python",
   "name": "python",
   "nbconvert_exporter": "python",
   "pygments_lexer": "ipython3",
   "version": "3.8.3"
  }
 },
 "nbformat": 4,
 "nbformat_minor": 5
}
